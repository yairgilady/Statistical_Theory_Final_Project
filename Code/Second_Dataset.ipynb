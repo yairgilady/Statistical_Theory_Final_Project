{
 "cells": [
  {
   "cell_type": "code",
   "execution_count": 2,
   "id": "9a21e7b3-e9ab-4e4f-84aa-9bedb4c35b1f",
   "metadata": {},
   "outputs": [
    {
     "data": {
      "text/html": [
       "<div>\n",
       "<style scoped>\n",
       "    .dataframe tbody tr th:only-of-type {\n",
       "        vertical-align: middle;\n",
       "    }\n",
       "\n",
       "    .dataframe tbody tr th {\n",
       "        vertical-align: top;\n",
       "    }\n",
       "\n",
       "    .dataframe thead th {\n",
       "        text-align: right;\n",
       "    }\n",
       "</style>\n",
       "<table border=\"1\" class=\"dataframe\">\n",
       "  <thead>\n",
       "    <tr style=\"text-align: right;\">\n",
       "      <th></th>\n",
       "      <th>State</th>\n",
       "      <th>Sex</th>\n",
       "      <th>GeneralHealth</th>\n",
       "      <th>PhysicalHealthDays</th>\n",
       "      <th>MentalHealthDays</th>\n",
       "      <th>LastCheckupTime</th>\n",
       "      <th>PhysicalActivities</th>\n",
       "      <th>SleepHours</th>\n",
       "      <th>RemovedTeeth</th>\n",
       "      <th>HadHeartAttack</th>\n",
       "      <th>...</th>\n",
       "      <th>HeightInMeters</th>\n",
       "      <th>WeightInKilograms</th>\n",
       "      <th>BMI</th>\n",
       "      <th>AlcoholDrinkers</th>\n",
       "      <th>HIVTesting</th>\n",
       "      <th>FluVaxLast12</th>\n",
       "      <th>PneumoVaxEver</th>\n",
       "      <th>TetanusLast10Tdap</th>\n",
       "      <th>HighRiskLastYear</th>\n",
       "      <th>CovidPos</th>\n",
       "    </tr>\n",
       "  </thead>\n",
       "  <tbody>\n",
       "    <tr>\n",
       "      <th>0</th>\n",
       "      <td>Alabama</td>\n",
       "      <td>Female</td>\n",
       "      <td>Very good</td>\n",
       "      <td>4.0</td>\n",
       "      <td>0.0</td>\n",
       "      <td>Within past year (anytime less than 12 months ...</td>\n",
       "      <td>Yes</td>\n",
       "      <td>9.0</td>\n",
       "      <td>None of them</td>\n",
       "      <td>No</td>\n",
       "      <td>...</td>\n",
       "      <td>1.60</td>\n",
       "      <td>71.67</td>\n",
       "      <td>27.99</td>\n",
       "      <td>No</td>\n",
       "      <td>No</td>\n",
       "      <td>Yes</td>\n",
       "      <td>Yes</td>\n",
       "      <td>Yes, received Tdap</td>\n",
       "      <td>No</td>\n",
       "      <td>No</td>\n",
       "    </tr>\n",
       "    <tr>\n",
       "      <th>1</th>\n",
       "      <td>Alabama</td>\n",
       "      <td>Male</td>\n",
       "      <td>Very good</td>\n",
       "      <td>0.0</td>\n",
       "      <td>0.0</td>\n",
       "      <td>Within past year (anytime less than 12 months ...</td>\n",
       "      <td>Yes</td>\n",
       "      <td>6.0</td>\n",
       "      <td>None of them</td>\n",
       "      <td>No</td>\n",
       "      <td>...</td>\n",
       "      <td>1.78</td>\n",
       "      <td>95.25</td>\n",
       "      <td>30.13</td>\n",
       "      <td>No</td>\n",
       "      <td>No</td>\n",
       "      <td>Yes</td>\n",
       "      <td>Yes</td>\n",
       "      <td>Yes, received tetanus shot but not sure what type</td>\n",
       "      <td>No</td>\n",
       "      <td>No</td>\n",
       "    </tr>\n",
       "    <tr>\n",
       "      <th>2</th>\n",
       "      <td>Alabama</td>\n",
       "      <td>Male</td>\n",
       "      <td>Very good</td>\n",
       "      <td>0.0</td>\n",
       "      <td>0.0</td>\n",
       "      <td>Within past year (anytime less than 12 months ...</td>\n",
       "      <td>No</td>\n",
       "      <td>8.0</td>\n",
       "      <td>6 or more, but not all</td>\n",
       "      <td>No</td>\n",
       "      <td>...</td>\n",
       "      <td>1.85</td>\n",
       "      <td>108.86</td>\n",
       "      <td>31.66</td>\n",
       "      <td>Yes</td>\n",
       "      <td>No</td>\n",
       "      <td>No</td>\n",
       "      <td>Yes</td>\n",
       "      <td>No, did not receive any tetanus shot in the pa...</td>\n",
       "      <td>No</td>\n",
       "      <td>Yes</td>\n",
       "    </tr>\n",
       "    <tr>\n",
       "      <th>3</th>\n",
       "      <td>Alabama</td>\n",
       "      <td>Female</td>\n",
       "      <td>Fair</td>\n",
       "      <td>5.0</td>\n",
       "      <td>0.0</td>\n",
       "      <td>Within past year (anytime less than 12 months ...</td>\n",
       "      <td>Yes</td>\n",
       "      <td>9.0</td>\n",
       "      <td>None of them</td>\n",
       "      <td>No</td>\n",
       "      <td>...</td>\n",
       "      <td>1.70</td>\n",
       "      <td>90.72</td>\n",
       "      <td>31.32</td>\n",
       "      <td>No</td>\n",
       "      <td>No</td>\n",
       "      <td>Yes</td>\n",
       "      <td>Yes</td>\n",
       "      <td>No, did not receive any tetanus shot in the pa...</td>\n",
       "      <td>No</td>\n",
       "      <td>Yes</td>\n",
       "    </tr>\n",
       "    <tr>\n",
       "      <th>4</th>\n",
       "      <td>Alabama</td>\n",
       "      <td>Female</td>\n",
       "      <td>Good</td>\n",
       "      <td>3.0</td>\n",
       "      <td>15.0</td>\n",
       "      <td>Within past year (anytime less than 12 months ...</td>\n",
       "      <td>Yes</td>\n",
       "      <td>5.0</td>\n",
       "      <td>1 to 5</td>\n",
       "      <td>No</td>\n",
       "      <td>...</td>\n",
       "      <td>1.55</td>\n",
       "      <td>79.38</td>\n",
       "      <td>33.07</td>\n",
       "      <td>No</td>\n",
       "      <td>No</td>\n",
       "      <td>Yes</td>\n",
       "      <td>Yes</td>\n",
       "      <td>No, did not receive any tetanus shot in the pa...</td>\n",
       "      <td>No</td>\n",
       "      <td>No</td>\n",
       "    </tr>\n",
       "  </tbody>\n",
       "</table>\n",
       "<p>5 rows × 40 columns</p>\n",
       "</div>"
      ],
      "text/plain": [
       "     State     Sex GeneralHealth  PhysicalHealthDays  MentalHealthDays  \\\n",
       "0  Alabama  Female     Very good                 4.0               0.0   \n",
       "1  Alabama    Male     Very good                 0.0               0.0   \n",
       "2  Alabama    Male     Very good                 0.0               0.0   \n",
       "3  Alabama  Female          Fair                 5.0               0.0   \n",
       "4  Alabama  Female          Good                 3.0              15.0   \n",
       "\n",
       "                                     LastCheckupTime PhysicalActivities  \\\n",
       "0  Within past year (anytime less than 12 months ...                Yes   \n",
       "1  Within past year (anytime less than 12 months ...                Yes   \n",
       "2  Within past year (anytime less than 12 months ...                 No   \n",
       "3  Within past year (anytime less than 12 months ...                Yes   \n",
       "4  Within past year (anytime less than 12 months ...                Yes   \n",
       "\n",
       "   SleepHours            RemovedTeeth HadHeartAttack  ... HeightInMeters  \\\n",
       "0         9.0            None of them             No  ...           1.60   \n",
       "1         6.0            None of them             No  ...           1.78   \n",
       "2         8.0  6 or more, but not all             No  ...           1.85   \n",
       "3         9.0            None of them             No  ...           1.70   \n",
       "4         5.0                  1 to 5             No  ...           1.55   \n",
       "\n",
       "  WeightInKilograms    BMI AlcoholDrinkers HIVTesting FluVaxLast12  \\\n",
       "0             71.67  27.99              No         No          Yes   \n",
       "1             95.25  30.13              No         No          Yes   \n",
       "2            108.86  31.66             Yes         No           No   \n",
       "3             90.72  31.32              No         No          Yes   \n",
       "4             79.38  33.07              No         No          Yes   \n",
       "\n",
       "  PneumoVaxEver                                  TetanusLast10Tdap  \\\n",
       "0           Yes                                 Yes, received Tdap   \n",
       "1           Yes  Yes, received tetanus shot but not sure what type   \n",
       "2           Yes  No, did not receive any tetanus shot in the pa...   \n",
       "3           Yes  No, did not receive any tetanus shot in the pa...   \n",
       "4           Yes  No, did not receive any tetanus shot in the pa...   \n",
       "\n",
       "  HighRiskLastYear CovidPos  \n",
       "0               No       No  \n",
       "1               No       No  \n",
       "2               No      Yes  \n",
       "3               No      Yes  \n",
       "4               No       No  \n",
       "\n",
       "[5 rows x 40 columns]"
      ]
     },
     "execution_count": 2,
     "metadata": {},
     "output_type": "execute_result"
    }
   ],
   "source": [
    "import pandas as pd\n",
    "\n",
    "df = pd.read_csv(\"/home/yair/Downloads/heart_2022_no_nans.csv\")\n",
    "df.head()"
   ]
  },
  {
   "cell_type": "markdown",
   "id": "327769d8-720d-4f21-a840-ae3066683d4d",
   "metadata": {},
   "source": [
    "### leaving only important features"
   ]
  },
  {
   "cell_type": "code",
   "execution_count": 3,
   "id": "b0436ee8-956b-46aa-b59c-b0a877ccad79",
   "metadata": {},
   "outputs": [
    {
     "name": "stdout",
     "output_type": "stream",
     "text": [
      "  HadHeartAttack   SmokerStatus      AgeCategory\n",
      "0             No  Former smoker     Age 65 to 69\n",
      "1             No  Former smoker     Age 70 to 74\n",
      "2             No  Former smoker     Age 75 to 79\n",
      "3             No   Never smoked  Age 80 or older\n",
      "4             No   Never smoked  Age 80 or older\n"
     ]
    }
   ],
   "source": [
    "# Assuming your dataset is in a DataFrame called 'df'\n",
    "# Keep only the specified columns\n",
    "df = df[['HadHeartAttack', 'SmokerStatus', 'AgeCategory']]\n",
    "\n",
    "# Display the filtered DataFrame\n",
    "print(df.head())\n"
   ]
  },
  {
   "cell_type": "markdown",
   "id": "9313505d-201b-461c-8873-fa898950d4a9",
   "metadata": {},
   "source": [
    "### Fixing age category"
   ]
  },
  {
   "cell_type": "code",
   "execution_count": 4,
   "id": "0256deeb-2f29-4f2c-8c6e-3c28b864dc93",
   "metadata": {},
   "outputs": [
    {
     "data": {
      "text/html": [
       "<div>\n",
       "<style scoped>\n",
       "    .dataframe tbody tr th:only-of-type {\n",
       "        vertical-align: middle;\n",
       "    }\n",
       "\n",
       "    .dataframe tbody tr th {\n",
       "        vertical-align: top;\n",
       "    }\n",
       "\n",
       "    .dataframe thead th {\n",
       "        text-align: right;\n",
       "    }\n",
       "</style>\n",
       "<table border=\"1\" class=\"dataframe\">\n",
       "  <thead>\n",
       "    <tr style=\"text-align: right;\">\n",
       "      <th></th>\n",
       "      <th>HadHeartAttack</th>\n",
       "      <th>SmokerStatus</th>\n",
       "      <th>AgeCategory</th>\n",
       "    </tr>\n",
       "  </thead>\n",
       "  <tbody>\n",
       "    <tr>\n",
       "      <th>0</th>\n",
       "      <td>No</td>\n",
       "      <td>Former smoker</td>\n",
       "      <td>67</td>\n",
       "    </tr>\n",
       "    <tr>\n",
       "      <th>1</th>\n",
       "      <td>No</td>\n",
       "      <td>Former smoker</td>\n",
       "      <td>72</td>\n",
       "    </tr>\n",
       "    <tr>\n",
       "      <th>2</th>\n",
       "      <td>No</td>\n",
       "      <td>Former smoker</td>\n",
       "      <td>77</td>\n",
       "    </tr>\n",
       "    <tr>\n",
       "      <th>3</th>\n",
       "      <td>No</td>\n",
       "      <td>Never smoked</td>\n",
       "      <td>80</td>\n",
       "    </tr>\n",
       "    <tr>\n",
       "      <th>4</th>\n",
       "      <td>No</td>\n",
       "      <td>Never smoked</td>\n",
       "      <td>80</td>\n",
       "    </tr>\n",
       "  </tbody>\n",
       "</table>\n",
       "</div>"
      ],
      "text/plain": [
       "  HadHeartAttack   SmokerStatus  AgeCategory\n",
       "0             No  Former smoker           67\n",
       "1             No  Former smoker           72\n",
       "2             No  Former smoker           77\n",
       "3             No   Never smoked           80\n",
       "4             No   Never smoked           80"
      ]
     },
     "execution_count": 4,
     "metadata": {},
     "output_type": "execute_result"
    }
   ],
   "source": [
    "import pandas as pd\n",
    "\n",
    "# Sample function to calculate the mean of the age range\n",
    "def age_category_mean(age_str):\n",
    "    if \"or older\" in age_str:\n",
    "        return int(age_str.split()[1])  # Get the age number before \"or older\"\n",
    "    else:\n",
    "        # Split the age range, convert to int, and calculate the mean\n",
    "        age_range = age_str.split()[1::2]  # Extract the start and end of the range\n",
    "        return sum(map(int, age_range)) // 2\n",
    "\n",
    "# Apply the function to the 'AgeCategory' column\n",
    "df['AgeCategory'] = df['AgeCategory'].apply(age_category_mean)\n",
    "df.head()"
   ]
  },
  {
   "cell_type": "markdown",
   "id": "736bf4c7-25da-4d45-ad83-bca845cfad50",
   "metadata": {},
   "source": [
    "### Looking at Smokerstatues"
   ]
  },
  {
   "cell_type": "code",
   "execution_count": 5,
   "id": "10b81935-f0d1-42f3-84c3-2bdacee37f1d",
   "metadata": {},
   "outputs": [
    {
     "name": "stdout",
     "output_type": "stream",
     "text": [
      "Former smoker\n",
      "Never smoked\n",
      "Current smoker - now smokes every day\n",
      "Current smoker - now smokes some days\n"
     ]
    }
   ],
   "source": [
    "import pandas as pd\n",
    "\n",
    "# Assuming df is your dataframe\n",
    "unique_smoking = df['SmokerStatus'].unique()\n",
    "\n",
    "# Print all unique values\n",
    "for category in unique_smoking:\n",
    "    print(category)\n"
   ]
  },
  {
   "cell_type": "markdown",
   "id": "d3f4dbd7-3f75-44c7-abbe-e6dc9cec9579",
   "metadata": {},
   "source": [
    "### Fixing Smoker Statues"
   ]
  },
  {
   "cell_type": "code",
   "execution_count": 6,
   "id": "0dd04c5d-76c6-4e9b-a8e1-5a230cded53d",
   "metadata": {},
   "outputs": [
    {
     "data": {
      "text/plain": [
       "array(['Former smoker', 'Never smoked', 'Current smoker'], dtype=object)"
      ]
     },
     "execution_count": 6,
     "metadata": {},
     "output_type": "execute_result"
    }
   ],
   "source": [
    "# Function to map detailed smoking statuses to broader categories\n",
    "def combine_current_smoking(status):\n",
    "    if 'Current smoker' in status:\n",
    "        return 'Current smoker'\n",
    "    else:\n",
    "        return status\n",
    "\n",
    "# Apply the function to the 'SmokerStatus' column\n",
    "df['SmokerStatus'] = df['SmokerStatus'].apply(combine_current_smoking)\n",
    "\n",
    "df[\"SmokerStatus\"].unique()"
   ]
  },
  {
   "cell_type": "code",
   "execution_count": 7,
   "id": "77a8988c-7b9d-4d9e-8ace-7753cff1d9c3",
   "metadata": {},
   "outputs": [
    {
     "data": {
      "text/html": [
       "<div>\n",
       "<style scoped>\n",
       "    .dataframe tbody tr th:only-of-type {\n",
       "        vertical-align: middle;\n",
       "    }\n",
       "\n",
       "    .dataframe tbody tr th {\n",
       "        vertical-align: top;\n",
       "    }\n",
       "\n",
       "    .dataframe thead th {\n",
       "        text-align: right;\n",
       "    }\n",
       "</style>\n",
       "<table border=\"1\" class=\"dataframe\">\n",
       "  <thead>\n",
       "    <tr style=\"text-align: right;\">\n",
       "      <th></th>\n",
       "      <th>HadHeartAttack</th>\n",
       "      <th>SmokerStatus</th>\n",
       "      <th>AgeCategory</th>\n",
       "    </tr>\n",
       "  </thead>\n",
       "  <tbody>\n",
       "    <tr>\n",
       "      <th>0</th>\n",
       "      <td>No</td>\n",
       "      <td>Former</td>\n",
       "      <td>67</td>\n",
       "    </tr>\n",
       "    <tr>\n",
       "      <th>1</th>\n",
       "      <td>No</td>\n",
       "      <td>Former</td>\n",
       "      <td>72</td>\n",
       "    </tr>\n",
       "    <tr>\n",
       "      <th>2</th>\n",
       "      <td>No</td>\n",
       "      <td>Former</td>\n",
       "      <td>77</td>\n",
       "    </tr>\n",
       "    <tr>\n",
       "      <th>3</th>\n",
       "      <td>No</td>\n",
       "      <td>Never</td>\n",
       "      <td>80</td>\n",
       "    </tr>\n",
       "    <tr>\n",
       "      <th>4</th>\n",
       "      <td>No</td>\n",
       "      <td>Never</td>\n",
       "      <td>80</td>\n",
       "    </tr>\n",
       "  </tbody>\n",
       "</table>\n",
       "</div>"
      ],
      "text/plain": [
       "  HadHeartAttack SmokerStatus  AgeCategory\n",
       "0             No       Former           67\n",
       "1             No       Former           72\n",
       "2             No       Former           77\n",
       "3             No        Never           80\n",
       "4             No        Never           80"
      ]
     },
     "execution_count": 7,
     "metadata": {},
     "output_type": "execute_result"
    }
   ],
   "source": [
    "# Function to map detailed smoking statuses to broader categories\n",
    "def simplify_smoker_status(status):\n",
    "    if 'Current smoker' in status:\n",
    "        return 'Current'\n",
    "    elif 'Former smoker' in status:\n",
    "        return 'Former'\n",
    "    elif 'Never smoked' in status:\n",
    "        return 'Never'\n",
    "    else:\n",
    "        return 'Unknown'\n",
    "\n",
    "# Apply the function to the 'SmokerStatus' column\n",
    "df['SmokerStatus'] = df['SmokerStatus'].apply(simplify_smoker_status)\n",
    "\n",
    "# Print the dataframe with the new column\n",
    "df.head()\n"
   ]
  },
  {
   "cell_type": "markdown",
   "id": "cd00dfff-7381-4f03-a113-9ace844fb8b3",
   "metadata": {},
   "source": [
    "### Fixing heart attack to numerical"
   ]
  },
  {
   "cell_type": "code",
   "execution_count": 8,
   "id": "aa8fc8e3-c49f-411f-8ff4-af9e8bf6433c",
   "metadata": {},
   "outputs": [
    {
     "data": {
      "text/html": [
       "<div>\n",
       "<style scoped>\n",
       "    .dataframe tbody tr th:only-of-type {\n",
       "        vertical-align: middle;\n",
       "    }\n",
       "\n",
       "    .dataframe tbody tr th {\n",
       "        vertical-align: top;\n",
       "    }\n",
       "\n",
       "    .dataframe thead th {\n",
       "        text-align: right;\n",
       "    }\n",
       "</style>\n",
       "<table border=\"1\" class=\"dataframe\">\n",
       "  <thead>\n",
       "    <tr style=\"text-align: right;\">\n",
       "      <th></th>\n",
       "      <th>HadHeartAttack</th>\n",
       "      <th>SmokerStatus</th>\n",
       "      <th>AgeCategory</th>\n",
       "    </tr>\n",
       "  </thead>\n",
       "  <tbody>\n",
       "    <tr>\n",
       "      <th>0</th>\n",
       "      <td>0</td>\n",
       "      <td>Former</td>\n",
       "      <td>67</td>\n",
       "    </tr>\n",
       "    <tr>\n",
       "      <th>1</th>\n",
       "      <td>0</td>\n",
       "      <td>Former</td>\n",
       "      <td>72</td>\n",
       "    </tr>\n",
       "    <tr>\n",
       "      <th>2</th>\n",
       "      <td>0</td>\n",
       "      <td>Former</td>\n",
       "      <td>77</td>\n",
       "    </tr>\n",
       "    <tr>\n",
       "      <th>3</th>\n",
       "      <td>0</td>\n",
       "      <td>Never</td>\n",
       "      <td>80</td>\n",
       "    </tr>\n",
       "    <tr>\n",
       "      <th>4</th>\n",
       "      <td>0</td>\n",
       "      <td>Never</td>\n",
       "      <td>80</td>\n",
       "    </tr>\n",
       "  </tbody>\n",
       "</table>\n",
       "</div>"
      ],
      "text/plain": [
       "   HadHeartAttack SmokerStatus  AgeCategory\n",
       "0               0       Former           67\n",
       "1               0       Former           72\n",
       "2               0       Former           77\n",
       "3               0        Never           80\n",
       "4               0        Never           80"
      ]
     },
     "execution_count": 8,
     "metadata": {},
     "output_type": "execute_result"
    }
   ],
   "source": [
    "import pandas as pd\n",
    "\n",
    "# Mapping function to convert 'Yes' to 1 and 'No' to 0\n",
    "def convert_heart_attack_status(status):\n",
    "    return 1 if status == 'Yes' else 0\n",
    "\n",
    "# Apply the function to the 'HadHeartAttack' column\n",
    "df['HadHeartAttack'] = df['HadHeartAttack'].apply(convert_heart_attack_status)\n",
    "\n",
    "# Print the updated dataframe\n",
    "df.head()\n"
   ]
  },
  {
   "cell_type": "markdown",
   "id": "4873b086-cf0b-40e5-897f-1148cb73a406",
   "metadata": {},
   "source": [
    "### Looking at heart attack"
   ]
  },
  {
   "cell_type": "code",
   "execution_count": 9,
   "id": "47723425-be8a-40ae-93df-8c0ebb06defc",
   "metadata": {},
   "outputs": [
    {
     "name": "stdout",
     "output_type": "stream",
     "text": [
      "Count of 0 (No): 232587\n",
      "Count of 1 (Yes): 13435\n"
     ]
    }
   ],
   "source": [
    "import pandas as pd\n",
    "\n",
    "# Count the occurrences of 0 and 1\n",
    "counts = df['HadHeartAttack'].value_counts()\n",
    "\n",
    "# Print the counts\n",
    "print(\"Count of 0 (No):\", counts.get(0, 0))\n",
    "print(\"Count of 1 (Yes):\", counts.get(1, 0))\n"
   ]
  },
  {
   "cell_type": "markdown",
   "id": "6455a901-2928-4f5b-a9bc-075b530af532",
   "metadata": {},
   "source": [
    "## Age distribution"
   ]
  },
  {
   "cell_type": "code",
   "execution_count": 10,
   "id": "e193b3e7-9ed6-49ba-9b77-943306923b7a",
   "metadata": {},
   "outputs": [
    {
     "data": {
      "image/png": "[encoded data removed]",
      "text/plain": [
       "<Figure size 600x400 with 1 Axes>"
      ]
     },
     "metadata": {},
     "output_type": "display_data"
    }
   ],
   "source": [
    "import matplotlib.pyplot as plt\n",
    "# Plot the histogram\n",
    "plt.figure(figsize=(6, 4))\n",
    "plt.hist(df['AgeCategory'], bins=10, edgecolor='black')\n",
    "plt.title('Age Histogram')\n",
    "plt.xlabel('Age')\n",
    "plt.ylabel('Frequency')\n",
    "plt.grid(True)\n",
    "plt.show()\n"
   ]
  },
  {
   "cell_type": "code",
   "execution_count": 11,
   "id": "a7ac804d-6503-4644-893d-c8656b2b2e01",
   "metadata": {},
   "outputs": [
    {
     "data": {
      "text/plain": [
       "<BarContainer object of 3 artists>"
      ]
     },
     "execution_count": 11,
     "metadata": {},
     "output_type": "execute_result"
    },
    {
     "data": {
      "image/png": "[encoded data removed]",
      "text/plain": [
       "<Figure size 640x480 with 1 Axes>"
      ]
     },
     "metadata": {},
     "output_type": "display_data"
    }
   ],
   "source": [
    "categories = df[\"SmokerStatus\"].value_counts().index\n",
    "counts = df[\"SmokerStatus\"].value_counts().values\n",
    "plt.bar(categories, counts, width=0.5)"
   ]
  },
  {
   "cell_type": "markdown",
   "id": "88c82e8f-78ca-457c-9754-34b5f6abdb1e",
   "metadata": {},
   "source": [
    "### Now let's check in percentage, and try to if Former is really the best."
   ]
  },
  {
   "cell_type": "code",
   "execution_count": 12,
   "id": "fa48faad-8111-4dfc-ada6-13cd68eb000e",
   "metadata": {},
   "outputs": [
    {
     "name": "stdout",
     "output_type": "stream",
     "text": [
      "  SmokerStatus  HadHeartAttack\n",
      "1       Former        0.081866\n",
      "0      Current        0.079105\n",
      "2        Never        0.037032\n"
     ]
    }
   ],
   "source": [
    "import pandas as pd\n",
    "\n",
    "# Ensure 'HadHeartAttack' is a binary column (1 for heart attack, 0 for no heart attack)\n",
    "# Group by 'SmokerStatus' and calculate the mean heart attack rate\n",
    "heart_attack_proportion = df.groupby('SmokerStatus')['HadHeartAttack'].mean().reset_index()\n",
    "\n",
    "# Sort by heart attack rate to find which smoking category has the highest risk\n",
    "heart_attack_proportion = heart_attack_proportion.sort_values(by='HadHeartAttack', ascending=False)\n",
    "\n",
    "# Display the results\n",
    "print(heart_attack_proportion)\n"
   ]
  },
  {
   "cell_type": "markdown",
   "id": "f90cfff8-cf5a-4051-848a-b958de165c57",
   "metadata": {},
   "source": [
    "### We did get a completely different result, and now we see that the best is not being a smoker at all, and there isn't a really big difference in former and never.\n",
    "### Let's check it statistially:"
   ]
  },
  {
   "cell_type": "code",
   "execution_count": 13,
   "id": "3441ba06-13a6-4623-8d4e-bd92265034c3",
   "metadata": {},
   "outputs": [
    {
     "name": "stdout",
     "output_type": "stream",
     "text": [
      "Chi2 Statistic: 2216.086624309097\n",
      "p-value: 0.0\n",
      "There is a statistically significant difference between smoking categories and heart attacks (reject null hypothesis).\n"
     ]
    }
   ],
   "source": [
    "import pandas as pd\n",
    "from scipy.stats import chi2_contingency\n",
    "\n",
    "# Create a contingency table\n",
    "contingency_table = pd.crosstab(df['SmokerStatus'], df['HadHeartAttack'])\n",
    "\n",
    "# Perform the chi-square test\n",
    "chi2, p, dof, expected = chi2_contingency(contingency_table)\n",
    "\n",
    "# Display results\n",
    "print(f\"Chi2 Statistic: {chi2}\")\n",
    "print(f\"p-value: {p}\")\n",
    "\n",
    "# Interpretation of results\n",
    "if p < 0.05:\n",
    "    print(\"There is a statistically significant difference between smoking categories and heart attacks (reject null hypothesis).\")\n",
    "else:\n",
    "    print(\"There is no statistically significant difference between smoking categories and heart attacks (fail to reject null hypothesis).\")\n"
   ]
  },
  {
   "cell_type": "code",
   "execution_count": 14,
   "id": "e34a19f2-2084-4a48-8578-ca1b005c50df",
   "metadata": {},
   "outputs": [
    {
     "name": "stdout",
     "output_type": "stream",
     "text": [
      "Z-statistic: 1.4572885781460896\n",
      "p-value: 0.1450367383593533\n",
      "There is no statistically significant difference between 'Former' and 'Current' smokers (fail to reject null hypothesis).\n"
     ]
    }
   ],
   "source": [
    "from statsmodels.stats.proportion import proportions_ztest\n",
    "\n",
    "# Filter the data for \"Former\" and \"Current\" smokers\n",
    "former = df[df['SmokerStatus'] == 'Former']\n",
    "current = df[df['SmokerStatus'] == 'Current']\n",
    "\n",
    "# Count the number of heart attacks and total counts\n",
    "count = [former['HadHeartAttack'].sum(), current['HadHeartAttack'].sum()]\n",
    "nobs = [len(former), len(current)]\n",
    "\n",
    "# Perform the z-test for proportions\n",
    "stat, p_value = proportions_ztest(count, nobs)\n",
    "\n",
    "# Display results\n",
    "print(f\"Z-statistic: {stat}\")\n",
    "print(f\"p-value: {p_value}\")\n",
    "\n",
    "# Interpretation of results\n",
    "if p_value < 0.05:\n",
    "    print(\"There is a statistically significant difference between 'Former' and 'Current' smokers (reject null hypothesis).\")\n",
    "else:\n",
    "    print(\"There is no statistically significant difference between 'Former' and 'Current' smokers (fail to reject null hypothesis).\")\n"
   ]
  },
  {
   "cell_type": "markdown",
   "id": "203ee154-b005-47e1-9bc4-e53b4bdfcd6a",
   "metadata": {},
   "source": [
    "## After checking is statistacally we can be assure that someone who never smoked has a much better at not getting a heart disease, while there isn't a difference between a corrent smoker and a former one."
   ]
  },
  {
   "cell_type": "markdown",
   "id": "e0d9f5b8-8025-414e-9580-d4e93fd44566",
   "metadata": {},
   "source": [
    "## That means that either this dataset has a bais which prevent it from getting the right results, or our oringinal data have bais."
   ]
  },
  {
   "cell_type": "markdown",
   "id": "8e5a846d-ebbd-4132-9f16-30c862344a0b",
   "metadata": {},
   "source": [
    "## now It's time to check what we found out about age."
   ]
  },
  {
   "cell_type": "markdown",
   "id": "8056f166-b827-4fc4-9957-dba0ecb3498a",
   "metadata": {},
   "source": [
    "### Our main result was that from age 50 till 70, you have the same chance of dying from a heart disease every moment, and it's not risin or slowin down in any meaningful mannner.¶ we'll start with a plot:"
   ]
  },
  {
   "cell_type": "code",
   "execution_count": 15,
   "id": "197e2bad-5bda-451f-a9e6-e44e46468485",
   "metadata": {},
   "outputs": [
    {
     "name": "stderr",
     "output_type": "stream",
     "text": [
      "/tmp/ipykernel_6947/3809935500.py:13: FutureWarning: \n",
      "\n",
      "Passing `palette` without assigning `hue` is deprecated and will be removed in v0.14.0. Assign the `x` variable to `hue` and set `legend=False` for the same effect.\n",
      "\n",
      "  sns.barplot(x='AgeCategory', y='HadHeartAttack', data=age_heartattack_proportion, palette='viridis')\n"
     ]
    },
    {
     "data": {
      "image/png": "[encoded data removed]",
      "text/plain": [
       "<Figure size 500x300 with 1 Axes>"
      ]
     },
     "metadata": {},
     "output_type": "display_data"
    }
   ],
   "source": [
    "import pandas as pd\n",
    "import seaborn as sns\n",
    "import matplotlib.pyplot as plt\n",
    "\n",
    "# Calculate the proportion of heart attacks by age category\n",
    "age_heartattack_proportion = df.groupby('AgeCategory')['HadHeartAttack'].mean().reset_index()\n",
    "\n",
    "# Sort by the proportion of heart attacks (optional, for better visualization)\n",
    "age_heartattack_proportion = age_heartattack_proportion.sort_values(by='HadHeartAttack', ascending=False)\n",
    "\n",
    "# Create the bar plot\n",
    "plt.figure(figsize=(5, 3))\n",
    "sns.barplot(x='AgeCategory', y='HadHeartAttack', data=age_heartattack_proportion, palette='viridis')\n",
    "\n",
    "# Add labels and title\n",
    "plt.title('Proportion of Heart Attacks by Age Category', fontsize=16)\n",
    "plt.xlabel('Age Category', fontsize=12)\n",
    "plt.ylabel('Proportion of Heart Attacks', fontsize=12)\n",
    "\n",
    "\n",
    "# Show the plot\n",
    "plt.tight_layout()\n",
    "plt.show()\n"
   ]
  },
  {
   "cell_type": "markdown",
   "id": "27305fa7-b3bc-414c-8485-35e0239aac88",
   "metadata": {},
   "source": [
    "### And it does seems that the older you are, the better chance you have of getting a heart disease, unlike what we have shown earlier."
   ]
  },
  {
   "cell_type": "markdown",
   "id": "9d098887-de98-427e-87bf-c3812db0859b",
   "metadata": {},
   "source": [
    "## Let's check normality and variance, to see if we can run anova test."
   ]
  },
  {
   "cell_type": "code",
   "execution_count": 16,
   "id": "c0e4733f-a38b-4eae-a0fc-72d98dbd4e07",
   "metadata": {},
   "outputs": [
    {
     "name": "stderr",
     "output_type": "stream",
     "text": [
      "/home/yair/.local/lib/python3.10/site-packages/scipy/stats/_axis_nan_policy.py:531: UserWarning: scipy.stats.shapiro: For N > 5000, computed p-value may not be accurate. Current N is 13435.\n",
      "  res = hypotest_fun_out(*samples, **kwds)\n"
     ]
    },
    {
     "name": "stdout",
     "output_type": "stream",
     "text": [
      "Heart Attack Yes - Shapiro Test p-value: 1.0434343537909275e-70\n",
      "Heart Attack No - Shapiro Test p-value: 1.2653806013742092e-112\n",
      "Levene’s Test for equal variances p-value: 0.0\n"
     ]
    },
    {
     "name": "stderr",
     "output_type": "stream",
     "text": [
      "/home/yair/.local/lib/python3.10/site-packages/scipy/stats/_axis_nan_policy.py:531: UserWarning: scipy.stats.shapiro: For N > 5000, computed p-value may not be accurate. Current N is 232587.\n",
      "  res = hypotest_fun_out(*samples, **kwds)\n"
     ]
    }
   ],
   "source": [
    "import pandas as pd\n",
    "import scipy.stats as stats\n",
    "import matplotlib.pyplot as plt\n",
    "import seaborn as sns\n",
    "\n",
    "\n",
    "# Separate age data based on heart attack status\n",
    "heart_attack_yes = df[df['HadHeartAttack'] == 1]['AgeCategory']\n",
    "heart_attack_no = df[df['HadHeartAttack'] == 0]['AgeCategory']\n",
    "\n",
    "# Check for normality using Shapiro-Wilk test\n",
    "stat_yes, p_yes = stats.shapiro(heart_attack_yes)\n",
    "stat_no, p_no = stats.shapiro(heart_attack_no)\n",
    "\n",
    "print(f'Heart Attack Yes - Shapiro Test p-value: {p_yes}')\n",
    "print(f'Heart Attack No - Shapiro Test p-value: {p_no}')\n",
    "\n",
    "# Check for equal variance using Levene's test\n",
    "stat_levene, p_levene = stats.levene(heart_attack_yes, heart_attack_no)\n",
    "\n",
    "print(f'Levene’s Test for equal variances p-value: {p_levene}')"
   ]
  },
  {
   "cell_type": "markdown",
   "id": "c128cdc4-3386-414c-9c99-cc67d87cbdb2",
   "metadata": {},
   "source": [
    "### We got a low p-value, meaning we can run anova:"
   ]
  },
  {
   "cell_type": "code",
   "execution_count": 17,
   "id": "baba29d1-0035-4841-b212-0a8375c2564c",
   "metadata": {},
   "outputs": [
    {
     "name": "stdout",
     "output_type": "stream",
     "text": [
      "ANOVA p-value: 0.0\n",
      "There is a statistically significant difference in age between those who had a heart attack and those who did not.\n"
     ]
    }
   ],
   "source": [
    "# Perform ANOVA\n",
    "stat_anova, p_anova = stats.f_oneway(heart_attack_yes, heart_attack_no)\n",
    "\n",
    "print(f'ANOVA p-value: {p_anova}')\n",
    "\n",
    "if p_anova < 0.05:\n",
    "    print(\"There is a statistically significant difference in age between those who had a heart attack and those who did not.\")\n",
    "else:\n",
    "    print(\"There is no statistically significant difference in age between the groups.\")\n"
   ]
  },
  {
   "cell_type": "markdown",
   "id": "f11313f7-4bf0-40d1-b8bc-42daae75d29f",
   "metadata": {},
   "source": [
    "## Now I will want to compare every pair of ages by itself, and see if where is the big difference lays."
   ]
  },
  {
   "cell_type": "code",
   "execution_count": 33,
   "id": "c4ade4b5-34f3-493d-be2b-6330ec8dc010",
   "metadata": {},
   "outputs": [
    {
     "name": "stdout",
     "output_type": "stream",
     "text": [
      "    AgeGroup1  AgeGroup2       P-Value  Significant\n",
      "0          21         27  6.786407e-01        False\n",
      "1          27         32  1.123395e-02         True\n",
      "2          32         37  3.309630e-03         True\n",
      "3          37         42  4.726316e-03         True\n",
      "4          42         47  9.621430e-15         True\n",
      "5          47         52  1.754745e-08         True\n",
      "6          52         57  1.238477e-13         True\n",
      "7          57         62  1.803038e-05         True\n",
      "8          62         67  1.164833e-14         True\n",
      "9          67         72  3.693528e-14         True\n",
      "10         72         77  4.963810e-12         True\n",
      "11         77         80  1.765577e-10         True\n"
     ]
    }
   ],
   "source": [
    "import pandas as pd\n",
    "from scipy.stats import chi2_contingency\n",
    "\n",
    "# Sort the data by AgeCategory\n",
    "df = df.sort_values(by=\"AgeCategory\")\n",
    "\n",
    "# Get unique age groups\n",
    "age_groups = df['AgeCategory'].unique()\n",
    "\n",
    "# Prepare a results dictionary\n",
    "results = []\n",
    "\n",
    "# Loop through each age group and compare with the next group\n",
    "for i in range(len(age_groups) - 1):\n",
    "    # Select the data for two consecutive age groups\n",
    "    group_1 = df[df['AgeCategory'] == age_groups[i]]['HadHeartAttack']\n",
    "    group_2 = df[df['AgeCategory'] == age_groups[i + 1]]['HadHeartAttack']\n",
    "    \n",
    "    # Create a contingency table manually\n",
    "    contingency_table = [\n",
    "        [sum(group_1 == 1), sum(group_1 == 0)],  # Heart attack and no heart attack counts for group_1\n",
    "        [sum(group_2 == 1), sum(group_2 == 0)]   # Heart attack and no heart attack counts for group_2\n",
    "    ]\n",
    "    \n",
    "    # Perform Chi-Square test\n",
    "    chi2, p_value, _, _ = chi2_contingency(contingency_table)\n",
    "    \n",
    "    # Store the results\n",
    "    result = {\n",
    "        'AgeGroup1': age_groups[i],\n",
    "        'AgeGroup2': age_groups[i + 1],\n",
    "        'P-Value': p_value,\n",
    "        'Significant': p_value < 0.05  # Change significance threshold if needed\n",
    "    }\n",
    "    \n",
    "    results.append(result)\n",
    "\n",
    "# Convert results to DataFrame for easy viewing\n",
    "results_df = pd.DataFrame(results)\n",
    "\n",
    "# Print the results\n",
    "print(results_df)\n"
   ]
  },
  {
   "cell_type": "markdown",
   "id": "2c59e4e0-86dd-4d8c-83d7-9a7a8ffb37f9",
   "metadata": {},
   "source": [
    "### Let's plot it. the lower the p-value is the bigger is the chance for a difference."
   ]
  },
  {
   "cell_type": "code",
   "execution_count": 31,
   "id": "3d08d816-d5eb-49de-9f51-8308ce24cd7c",
   "metadata": {},
   "outputs": [
    {
     "data": {
      "image/png": "[encoded data removed]",
      "text/plain": [
       "<Figure size 1000x600 with 1 Axes>"
      ]
     },
     "metadata": {},
     "output_type": "display_data"
    }
   ],
   "source": [
    "import pandas as pd\n",
    "import matplotlib.pyplot as plt\n",
    "import seaborn as sns\n",
    "\n",
    "# Bar Plot\n",
    "plt.figure(figsize=(10, 6))\n",
    "sns.barplot(x='AgeGroup1', y='P-Value', hue='Significant', data=results_df, dodge=False, palette={True: 'red', False: 'green'})\n",
    "\n",
    "# Highlighting significant p-values\n",
    "plt.axhline(y=0.05, color='blue', linestyle='--', label='Significance Threshold (p=0.05)')\n",
    "plt.yscale('log')  # Log scale to better visualize small p-values\n",
    "plt.title('P-Values for Consecutive Age Group Comparisons')\n",
    "plt.xlabel('Age Groups Compared')\n",
    "plt.ylabel('P-Value (log scale)')\n",
    "plt.xticks(ticks=range(len(results_df)), labels=[f\"{row['AgeGroup1']} vs {row['AgeGroup2']}\" for _, row in results_df.iterrows()], rotation=45)\n",
    "plt.legend(title=\"Significant Difference\")\n",
    "\n",
    "plt.show()\n",
    "\n"
   ]
  },
  {
   "cell_type": "markdown",
   "id": "4bba55bd-252d-439d-bc87-cb317ed20da1",
   "metadata": {},
   "source": [
    "#### Let's see what will happend if we were to group 21 and 27."
   ]
  },
  {
   "cell_type": "code",
   "execution_count": 36,
   "id": "ad356ab2-8ad1-4b17-bc2e-f4d08f24e8a6",
   "metadata": {},
   "outputs": [
    {
     "data": {
      "image/png": "[encoded data removed]",
      "text/plain": [
       "<Figure size 1000x600 with 1 Axes>"
      ]
     },
     "metadata": {},
     "output_type": "display_data"
    }
   ],
   "source": [
    "import pandas as pd\n",
    "from statsmodels.stats.proportion import proportions_ztest\n",
    "import matplotlib.pyplot as plt\n",
    "import seaborn as sns\n",
    "\n",
    "# Assuming df is your DataFrame\n",
    "# Example structure:\n",
    "# df = pd.DataFrame({\n",
    "#     'AgeCategory': [21, 27, 32, 32, 32, 21, 27],\n",
    "#     'HadHeartAttack': [0, 1, 1, 0, 1, 0, 1]\n",
    "# })\n",
    "\n",
    "# Combine age groups 21 and 27 into one group called '21_27'\n",
    "df['GroupedAge'] = df['AgeCategory'].replace({21: '21_27', 27: '21_27'})\n",
    "\n",
    "# Filter data for the two groups: combined group '21_27' and age group 32\n",
    "group_21_27 = df[df['GroupedAge'] == '21_27']\n",
    "group_32 = df[df['AgeCategory'] == 32]\n",
    "\n",
    "# Count heart attacks and total number of people in each group\n",
    "count = [group_21_27['HadHeartAttack'].sum(), group_32['HadHeartAttack'].sum()]\n",
    "nobs = [len(group_21_27), len(group_32)]\n",
    "\n",
    "# Perform the z-test for proportions\n",
    "stat, p_value = proportions_ztest(count, nobs)\n",
    "\n",
    "# Now create a DataFrame with results from multiple comparisons\n",
    "results = pd.DataFrame({\n",
    "    'AgeGroup1': [21, 27, '21_27'],\n",
    "    'AgeGroup2': [27, 32, 32],\n",
    "    'P-Value': [0.6786407, 0.01123395, p_value],  # Use the earlier p-values, and add the new one\n",
    "    'Significant': [False, True, p_value < 0.05]  # Mark significance for the new comparison\n",
    "})\n",
    "\n",
    "# Plot the results as a bar chart\n",
    "plt.figure(figsize=(10, 6))\n",
    "\n",
    "# Barplot showing p-values and highlighting significant differences\n",
    "sns.barplot(x=results['AgeGroup1'].astype(str) + ' vs ' + results['AgeGroup2'].astype(str),\n",
    "            y=results['P-Value'], hue=results['Significant'], palette={True: 'red', False: 'green'})\n",
    "\n",
    "# Highlight the significance threshold line (p = 0.05)\n",
    "plt.axhline(y=0.05, color='blue', linestyle='--', label='Significance Threshold (p=0.05)')\n",
    "\n",
    "# Logarithmic scale to visualize small p-values\n",
    "plt.yscale('log')\n",
    "\n",
    "# Add titles and labels\n",
    "plt.title('P-Values for Age Group Comparisons (Including {21, 27} vs 32)')\n",
    "plt.xlabel('Age Groups Compared')\n",
    "plt.ylabel('P-Value (log scale)')\n",
    "plt.xticks(rotation=45)\n",
    "plt.legend(title=\"Significant Difference\")\n",
    "\n",
    "# Show the plot\n",
    "plt.tight_layout()\n",
    "plt.show()\n"
   ]
  },
  {
   "cell_type": "markdown",
   "id": "577546cd-db5c-494c-a32f-9baee3234db1",
   "metadata": {},
   "source": [
    "## We can know divide all people into groups, and in each group to guess what is the chance for a heart rate."
   ]
  },
  {
   "cell_type": "code",
   "execution_count": null,
   "id": "12fde912-4f2d-4e6e-85f7-b5597eff73fe",
   "metadata": {},
   "outputs": [],
   "source": []
  }
 ],
 "metadata": {
  "kernelspec": {
   "display_name": "Python 3 (ipykernel)",
   "language": "python",
   "name": "python3"
  },
  "language_info": {
   "codemirror_mode": {
    "name": "ipython",
    "version": 3
   },
   "file_extension": ".py",
   "mimetype": "text/x-python",
   "name": "python",
   "nbconvert_exporter": "python",
   "pygments_lexer": "ipython3",
   "version": "3.10.12"
  }
 },
 "nbformat": 4,
 "nbformat_minor": 5
}
