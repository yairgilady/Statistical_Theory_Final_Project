{
 "cells": [
  {
   "cell_type": "code",
   "execution_count": 2,
   "id": "c98f526c-5d3d-4a86-b264-bbbe6759a377",
   "metadata": {},
   "outputs": [
    {
     "data": {
      "text/html": [
       "<div>\n",
       "<style scoped>\n",
       "    .dataframe tbody tr th:only-of-type {\n",
       "        vertical-align: middle;\n",
       "    }\n",
       "\n",
       "    .dataframe tbody tr th {\n",
       "        vertical-align: top;\n",
       "    }\n",
       "\n",
       "    .dataframe thead th {\n",
       "        text-align: right;\n",
       "    }\n",
       "</style>\n",
       "<table border=\"1\" class=\"dataframe\">\n",
       "  <thead>\n",
       "    <tr style=\"text-align: right;\">\n",
       "      <th></th>\n",
       "      <th>Unnamed: 0</th>\n",
       "      <th>Age</th>\n",
       "      <th>Gender</th>\n",
       "      <th>Cholesterol</th>\n",
       "      <th>Blood Pressure</th>\n",
       "      <th>Heart Rate</th>\n",
       "      <th>Smoking</th>\n",
       "      <th>Alcohol Intake</th>\n",
       "      <th>Exercise Hours</th>\n",
       "      <th>Family History</th>\n",
       "      <th>Diabetes</th>\n",
       "      <th>Obesity</th>\n",
       "      <th>Stress Level</th>\n",
       "      <th>Blood Sugar</th>\n",
       "      <th>Exercise Induced Angina</th>\n",
       "      <th>Chest Pain Type</th>\n",
       "      <th>Heart Disease</th>\n",
       "    </tr>\n",
       "  </thead>\n",
       "  <tbody>\n",
       "    <tr>\n",
       "      <th>0</th>\n",
       "      <td>0</td>\n",
       "      <td>75</td>\n",
       "      <td>Female</td>\n",
       "      <td>228</td>\n",
       "      <td>119</td>\n",
       "      <td>66</td>\n",
       "      <td>Current</td>\n",
       "      <td>Heavy</td>\n",
       "      <td>1</td>\n",
       "      <td>No</td>\n",
       "      <td>No</td>\n",
       "      <td>Yes</td>\n",
       "      <td>8</td>\n",
       "      <td>119</td>\n",
       "      <td>Yes</td>\n",
       "      <td>Atypical Angina</td>\n",
       "      <td>1</td>\n",
       "    </tr>\n",
       "    <tr>\n",
       "      <th>1</th>\n",
       "      <td>1</td>\n",
       "      <td>48</td>\n",
       "      <td>Male</td>\n",
       "      <td>204</td>\n",
       "      <td>165</td>\n",
       "      <td>62</td>\n",
       "      <td>Current</td>\n",
       "      <td>Nothing</td>\n",
       "      <td>5</td>\n",
       "      <td>No</td>\n",
       "      <td>No</td>\n",
       "      <td>No</td>\n",
       "      <td>9</td>\n",
       "      <td>70</td>\n",
       "      <td>Yes</td>\n",
       "      <td>Typical Angina</td>\n",
       "      <td>0</td>\n",
       "    </tr>\n",
       "    <tr>\n",
       "      <th>2</th>\n",
       "      <td>2</td>\n",
       "      <td>53</td>\n",
       "      <td>Male</td>\n",
       "      <td>234</td>\n",
       "      <td>91</td>\n",
       "      <td>67</td>\n",
       "      <td>Never</td>\n",
       "      <td>Heavy</td>\n",
       "      <td>3</td>\n",
       "      <td>Yes</td>\n",
       "      <td>No</td>\n",
       "      <td>Yes</td>\n",
       "      <td>5</td>\n",
       "      <td>196</td>\n",
       "      <td>Yes</td>\n",
       "      <td>Atypical Angina</td>\n",
       "      <td>1</td>\n",
       "    </tr>\n",
       "    <tr>\n",
       "      <th>3</th>\n",
       "      <td>3</td>\n",
       "      <td>69</td>\n",
       "      <td>Female</td>\n",
       "      <td>192</td>\n",
       "      <td>90</td>\n",
       "      <td>72</td>\n",
       "      <td>Current</td>\n",
       "      <td>Nothing</td>\n",
       "      <td>4</td>\n",
       "      <td>No</td>\n",
       "      <td>Yes</td>\n",
       "      <td>No</td>\n",
       "      <td>7</td>\n",
       "      <td>107</td>\n",
       "      <td>Yes</td>\n",
       "      <td>Non-anginal Pain</td>\n",
       "      <td>0</td>\n",
       "    </tr>\n",
       "    <tr>\n",
       "      <th>4</th>\n",
       "      <td>4</td>\n",
       "      <td>62</td>\n",
       "      <td>Female</td>\n",
       "      <td>172</td>\n",
       "      <td>163</td>\n",
       "      <td>93</td>\n",
       "      <td>Never</td>\n",
       "      <td>Nothing</td>\n",
       "      <td>6</td>\n",
       "      <td>No</td>\n",
       "      <td>Yes</td>\n",
       "      <td>No</td>\n",
       "      <td>2</td>\n",
       "      <td>183</td>\n",
       "      <td>Yes</td>\n",
       "      <td>Asymptomatic</td>\n",
       "      <td>0</td>\n",
       "    </tr>\n",
       "  </tbody>\n",
       "</table>\n",
       "</div>"
      ],
      "text/plain": [
       "   Unnamed: 0  Age  Gender  Cholesterol  Blood Pressure  Heart Rate  Smoking  \\\n",
       "0           0   75  Female          228             119          66  Current   \n",
       "1           1   48    Male          204             165          62  Current   \n",
       "2           2   53    Male          234              91          67    Never   \n",
       "3           3   69  Female          192              90          72  Current   \n",
       "4           4   62  Female          172             163          93    Never   \n",
       "\n",
       "  Alcohol Intake  Exercise Hours Family History Diabetes Obesity  \\\n",
       "0          Heavy               1             No       No     Yes   \n",
       "1        Nothing               5             No       No      No   \n",
       "2          Heavy               3            Yes       No     Yes   \n",
       "3        Nothing               4             No      Yes      No   \n",
       "4        Nothing               6             No      Yes      No   \n",
       "\n",
       "   Stress Level  Blood Sugar Exercise Induced Angina   Chest Pain Type  \\\n",
       "0             8          119                     Yes   Atypical Angina   \n",
       "1             9           70                     Yes    Typical Angina   \n",
       "2             5          196                     Yes   Atypical Angina   \n",
       "3             7          107                     Yes  Non-anginal Pain   \n",
       "4             2          183                     Yes      Asymptomatic   \n",
       "\n",
       "   Heart Disease  \n",
       "0              1  \n",
       "1              0  \n",
       "2              1  \n",
       "3              0  \n",
       "4              0  "
      ]
     },
     "execution_count": 2,
     "metadata": {},
     "output_type": "execute_result"
    }
   ],
   "source": [
    "import pandas as pd\n",
    "\n",
    "df = pd.read_csv(\"/home/yair/Documents/Bar-Ilan/third-year/semester2/Statistical-Theory/heart_disease_dataset.csv\")\n",
    "df.head()"
   ]
  },
  {
   "cell_type": "code",
   "execution_count": 3,
   "id": "d7bb9596-b805-46d6-9ddc-b41923f8d3c3",
   "metadata": {},
   "outputs": [
    {
     "data": {
      "text/plain": [
       "(1000, 17)"
      ]
     },
     "execution_count": 3,
     "metadata": {},
     "output_type": "execute_result"
    }
   ],
   "source": [
    "df.shape"
   ]
  },
  {
   "cell_type": "code",
   "execution_count": 4,
   "id": "fdd8f297-30af-4e9b-ace8-e7bbf7befd36",
   "metadata": {},
   "outputs": [
    {
     "data": {
      "text/html": [
       "<div>\n",
       "<style scoped>\n",
       "    .dataframe tbody tr th:only-of-type {\n",
       "        vertical-align: middle;\n",
       "    }\n",
       "\n",
       "    .dataframe tbody tr th {\n",
       "        vertical-align: top;\n",
       "    }\n",
       "\n",
       "    .dataframe thead th {\n",
       "        text-align: right;\n",
       "    }\n",
       "</style>\n",
       "<table border=\"1\" class=\"dataframe\">\n",
       "  <thead>\n",
       "    <tr style=\"text-align: right;\">\n",
       "      <th></th>\n",
       "      <th>Unnamed: 0</th>\n",
       "      <th>Age</th>\n",
       "      <th>Cholesterol</th>\n",
       "      <th>Blood Pressure</th>\n",
       "      <th>Heart Rate</th>\n",
       "      <th>Exercise Hours</th>\n",
       "      <th>Stress Level</th>\n",
       "      <th>Blood Sugar</th>\n",
       "      <th>Heart Disease</th>\n",
       "    </tr>\n",
       "  </thead>\n",
       "  <tbody>\n",
       "    <tr>\n",
       "      <th>count</th>\n",
       "      <td>1000.000000</td>\n",
       "      <td>1000.000000</td>\n",
       "      <td>1000.000000</td>\n",
       "      <td>1000.0000</td>\n",
       "      <td>1000.000000</td>\n",
       "      <td>1000.000000</td>\n",
       "      <td>1000.000000</td>\n",
       "      <td>1000.000000</td>\n",
       "      <td>1000.000000</td>\n",
       "    </tr>\n",
       "    <tr>\n",
       "      <th>mean</th>\n",
       "      <td>499.500000</td>\n",
       "      <td>52.293000</td>\n",
       "      <td>249.939000</td>\n",
       "      <td>135.2810</td>\n",
       "      <td>79.204000</td>\n",
       "      <td>4.529000</td>\n",
       "      <td>5.646000</td>\n",
       "      <td>134.941000</td>\n",
       "      <td>0.392000</td>\n",
       "    </tr>\n",
       "    <tr>\n",
       "      <th>std</th>\n",
       "      <td>288.819436</td>\n",
       "      <td>15.727126</td>\n",
       "      <td>57.914673</td>\n",
       "      <td>26.3883</td>\n",
       "      <td>11.486092</td>\n",
       "      <td>2.934241</td>\n",
       "      <td>2.831024</td>\n",
       "      <td>36.699624</td>\n",
       "      <td>0.488441</td>\n",
       "    </tr>\n",
       "    <tr>\n",
       "      <th>min</th>\n",
       "      <td>0.000000</td>\n",
       "      <td>25.000000</td>\n",
       "      <td>150.000000</td>\n",
       "      <td>90.0000</td>\n",
       "      <td>60.000000</td>\n",
       "      <td>0.000000</td>\n",
       "      <td>1.000000</td>\n",
       "      <td>70.000000</td>\n",
       "      <td>0.000000</td>\n",
       "    </tr>\n",
       "    <tr>\n",
       "      <th>25%</th>\n",
       "      <td>249.750000</td>\n",
       "      <td>39.000000</td>\n",
       "      <td>200.000000</td>\n",
       "      <td>112.7500</td>\n",
       "      <td>70.000000</td>\n",
       "      <td>2.000000</td>\n",
       "      <td>3.000000</td>\n",
       "      <td>104.000000</td>\n",
       "      <td>0.000000</td>\n",
       "    </tr>\n",
       "    <tr>\n",
       "      <th>50%</th>\n",
       "      <td>499.500000</td>\n",
       "      <td>52.000000</td>\n",
       "      <td>248.000000</td>\n",
       "      <td>136.0000</td>\n",
       "      <td>79.000000</td>\n",
       "      <td>4.500000</td>\n",
       "      <td>6.000000</td>\n",
       "      <td>135.000000</td>\n",
       "      <td>0.000000</td>\n",
       "    </tr>\n",
       "    <tr>\n",
       "      <th>75%</th>\n",
       "      <td>749.250000</td>\n",
       "      <td>66.000000</td>\n",
       "      <td>299.000000</td>\n",
       "      <td>159.0000</td>\n",
       "      <td>89.000000</td>\n",
       "      <td>7.000000</td>\n",
       "      <td>8.000000</td>\n",
       "      <td>167.000000</td>\n",
       "      <td>1.000000</td>\n",
       "    </tr>\n",
       "    <tr>\n",
       "      <th>max</th>\n",
       "      <td>999.000000</td>\n",
       "      <td>79.000000</td>\n",
       "      <td>349.000000</td>\n",
       "      <td>179.0000</td>\n",
       "      <td>99.000000</td>\n",
       "      <td>9.000000</td>\n",
       "      <td>10.000000</td>\n",
       "      <td>199.000000</td>\n",
       "      <td>1.000000</td>\n",
       "    </tr>\n",
       "  </tbody>\n",
       "</table>\n",
       "</div>"
      ],
      "text/plain": [
       "        Unnamed: 0          Age  Cholesterol  Blood Pressure   Heart Rate  \\\n",
       "count  1000.000000  1000.000000  1000.000000       1000.0000  1000.000000   \n",
       "mean    499.500000    52.293000   249.939000        135.2810    79.204000   \n",
       "std     288.819436    15.727126    57.914673         26.3883    11.486092   \n",
       "min       0.000000    25.000000   150.000000         90.0000    60.000000   \n",
       "25%     249.750000    39.000000   200.000000        112.7500    70.000000   \n",
       "50%     499.500000    52.000000   248.000000        136.0000    79.000000   \n",
       "75%     749.250000    66.000000   299.000000        159.0000    89.000000   \n",
       "max     999.000000    79.000000   349.000000        179.0000    99.000000   \n",
       "\n",
       "       Exercise Hours  Stress Level  Blood Sugar  Heart Disease  \n",
       "count     1000.000000   1000.000000  1000.000000    1000.000000  \n",
       "mean         4.529000      5.646000   134.941000       0.392000  \n",
       "std          2.934241      2.831024    36.699624       0.488441  \n",
       "min          0.000000      1.000000    70.000000       0.000000  \n",
       "25%          2.000000      3.000000   104.000000       0.000000  \n",
       "50%          4.500000      6.000000   135.000000       0.000000  \n",
       "75%          7.000000      8.000000   167.000000       1.000000  \n",
       "max          9.000000     10.000000   199.000000       1.000000  "
      ]
     },
     "execution_count": 4,
     "metadata": {},
     "output_type": "execute_result"
    }
   ],
   "source": [
    "df.describe()"
   ]
  },
  {
   "cell_type": "code",
   "execution_count": 5,
   "id": "e0cc28b4-77e8-4844-a4ab-f8ab274e8c96",
   "metadata": {},
   "outputs": [
    {
     "name": "stdout",
     "output_type": "stream",
     "text": [
      "<class 'pandas.core.frame.DataFrame'>\n",
      "RangeIndex: 1000 entries, 0 to 999\n",
      "Data columns (total 17 columns):\n",
      " #   Column                   Non-Null Count  Dtype \n",
      "---  ------                   --------------  ----- \n",
      " 0   Unnamed: 0               1000 non-null   int64 \n",
      " 1   Age                      1000 non-null   int64 \n",
      " 2   Gender                   1000 non-null   object\n",
      " 3   Cholesterol              1000 non-null   int64 \n",
      " 4   Blood Pressure           1000 non-null   int64 \n",
      " 5   Heart Rate               1000 non-null   int64 \n",
      " 6   Smoking                  1000 non-null   object\n",
      " 7   Alcohol Intake           1000 non-null   object\n",
      " 8   Exercise Hours           1000 non-null   int64 \n",
      " 9   Family History           1000 non-null   object\n",
      " 10  Diabetes                 1000 non-null   object\n",
      " 11  Obesity                  1000 non-null   object\n",
      " 12  Stress Level             1000 non-null   int64 \n",
      " 13  Blood Sugar              1000 non-null   int64 \n",
      " 14  Exercise Induced Angina  1000 non-null   object\n",
      " 15  Chest Pain Type          1000 non-null   object\n",
      " 16  Heart Disease            1000 non-null   int64 \n",
      "dtypes: int64(9), object(8)\n",
      "memory usage: 132.9+ KB\n"
     ]
    }
   ],
   "source": [
    "df.info()"
   ]
  },
  {
   "cell_type": "markdown",
   "id": "96ece6db-6bf5-4e1b-a41f-f69c302cfd60",
   "metadata": {},
   "source": [
    "### we will fix Alchohol Intake column, since it's seems like pandas recognize all of the none smoking people as nan, while it just should be none."
   ]
  },
  {
   "cell_type": "code",
   "execution_count": 21,
   "id": "3e92783f-2abe-4624-a13a-933de9cbbfa1",
   "metadata": {},
   "outputs": [
    {
     "name": "stdout",
     "output_type": "stream",
     "text": [
      "<class 'pandas.core.frame.DataFrame'>\n",
      "RangeIndex: 1000 entries, 0 to 999\n",
      "Data columns (total 16 columns):\n",
      " #   Column                   Non-Null Count  Dtype  \n",
      "---  ------                   --------------  -----  \n",
      " 0   Age                      1000 non-null   float64\n",
      " 1   Gender                   1000 non-null   int64  \n",
      " 2   Cholesterol              1000 non-null   float64\n",
      " 3   Blood Pressure           1000 non-null   float64\n",
      " 4   Heart Rate               1000 non-null   float64\n",
      " 5   Smoking                  1000 non-null   int64  \n",
      " 6   Alcohol Intake           1000 non-null   int64  \n",
      " 7   Exercise Hours           1000 non-null   float64\n",
      " 8   Family History           1000 non-null   int64  \n",
      " 9   Diabetes                 1000 non-null   int64  \n",
      " 10  Obesity                  1000 non-null   int64  \n",
      " 11  Stress Level             1000 non-null   float64\n",
      " 12  Blood Sugar              1000 non-null   float64\n",
      " 13  Exercise Induced Angina  1000 non-null   int64  \n",
      " 14  Chest Pain Type          1000 non-null   int64  \n",
      " 15  Heart Disease            1000 non-null   int64  \n",
      "dtypes: float64(7), int64(9)\n",
      "memory usage: 125.1 KB\n"
     ]
    }
   ],
   "source": [
    "df[\"Alcohol Intake\"]=df[\"Alcohol Intake\"].fillna(\"Nothing\") #replacing all Nan with nothing\n",
    "df.info()\n",
    "\n",
    "df.drop(df.columns[df.columns.str.contains('unnamed', case=False)], axis=1, inplace=True)\n",
    " \n",
    "df.to_csv(\"/home/yair/Documents/Bar-Ilan/third-year/semester2/Statistical-Theory/heart_disease_dataset.csv\", index = False)"
   ]
  },
  {
   "cell_type": "markdown",
   "id": "6f376223-0f4d-4f72-b4b3-8ef861ba950a",
   "metadata": {},
   "source": [
    "#### For ease of use, I will change all non Numeric values in data to numeric ones.\n"
   ]
  },
  {
   "cell_type": "code",
   "execution_count": 7,
   "id": "d606925b-03f6-43a0-83f6-7a03a48ab995",
   "metadata": {},
   "outputs": [
    {
     "name": "stdout",
     "output_type": "stream",
     "text": [
      "0      2\n",
      "1      0\n",
      "2      2\n",
      "3      0\n",
      "4      0\n",
      "      ..\n",
      "995    2\n",
      "996    0\n",
      "997    1\n",
      "998    0\n",
      "999    0\n",
      "Name: Alcohol Intake, Length: 1000, dtype: int64\n",
      "0      0\n",
      "1      1\n",
      "2      1\n",
      "3      0\n",
      "4      0\n",
      "      ..\n",
      "995    0\n",
      "996    0\n",
      "997    1\n",
      "998    0\n",
      "999    1\n",
      "Name: Gender, Length: 1000, dtype: int64\n",
      "0      0\n",
      "1      0\n",
      "2      1\n",
      "3      0\n",
      "4      0\n",
      "      ..\n",
      "995    0\n",
      "996    0\n",
      "997    1\n",
      "998    1\n",
      "999    0\n",
      "Name: Family History, Length: 1000, dtype: int64\n",
      "0      0\n",
      "1      0\n",
      "2      0\n",
      "3      1\n",
      "4      1\n",
      "      ..\n",
      "995    1\n",
      "996    0\n",
      "997    0\n",
      "998    1\n",
      "999    0\n",
      "Name: Diabetes, Length: 1000, dtype: int64\n",
      "0      1\n",
      "1      0\n",
      "2      1\n",
      "3      0\n",
      "4      0\n",
      "      ..\n",
      "995    1\n",
      "996    0\n",
      "997    1\n",
      "998    0\n",
      "999    1\n",
      "Name: Obesity, Length: 1000, dtype: int64\n",
      "0      1\n",
      "1      1\n",
      "2      1\n",
      "3      1\n",
      "4      1\n",
      "      ..\n",
      "995    0\n",
      "996    1\n",
      "997    1\n",
      "998    1\n",
      "999    1\n",
      "Name: Exercise Induced Angina, Length: 1000, dtype: int64\n",
      "0      2\n",
      "1      2\n",
      "2      0\n",
      "3      2\n",
      "4      0\n",
      "      ..\n",
      "995    0\n",
      "996    0\n",
      "997    0\n",
      "998    1\n",
      "999    2\n",
      "Name: Smoking, Length: 1000, dtype: int64\n",
      "0      1\n",
      "1      0\n",
      "2      1\n",
      "3      2\n",
      "4      3\n",
      "      ..\n",
      "995    2\n",
      "996    0\n",
      "997    3\n",
      "998    1\n",
      "999    3\n",
      "Name: Chest Pain Type, Length: 1000, dtype: int64\n"
     ]
    }
   ],
   "source": [
    "Numeric_Alcohol_Intake = []\n",
    "for x in df[\"Alcohol Intake\"]:\n",
    "    if (x== \"Nothing\"):\n",
    "        Numeric_Alcohol_Intake.append(0)\n",
    "    if (x== \"Moderate\"):\n",
    "        Numeric_Alcohol_Intake.append(1)\n",
    "    if (x== \"Heavy\"):\n",
    "        Numeric_Alcohol_Intake.append(2)\n",
    "\n",
    "df[\"Alcohol Intake\"] = Numeric_Alcohol_Intake\n",
    "print(df[\"Alcohol Intake\"])\n",
    "\n",
    "\n",
    "\n",
    "Numeric_Gender = []\n",
    "for x in df[\"Gender\"]:\n",
    "    if (x== \"Female\"):\n",
    "        Numeric_Gender.append(0)\n",
    "    if (x== \"Male\"):\n",
    "        Numeric_Gender.append(1)\n",
    "    \n",
    "df[\"Gender\"] = Numeric_Gender\n",
    "print(df[\"Gender\"])\n",
    "\n",
    "\n",
    "Numeric_Family_History = []\n",
    "for x in df[\"Family History\"]:\n",
    "    if (x== \"No\"):\n",
    "        Numeric_Family_History.append(0)\n",
    "    if (x== \"Yes\"):\n",
    "        Numeric_Family_History.append(1)\n",
    "    \n",
    "df[\"Family History\"] = Numeric_Family_History\n",
    "print(df[\"Family History\"])\n",
    "\n",
    "\n",
    "Numeric_Diabetes = []\n",
    "for x in df[\"Diabetes\"]:\n",
    "    if (x== \"No\"):\n",
    "        Numeric_Diabetes.append(0)\n",
    "    if (x== \"Yes\"):\n",
    "        Numeric_Diabetes.append(1)\n",
    "    \n",
    "df[\"Diabetes\"] = Numeric_Diabetes\n",
    "print(df[\"Diabetes\"])\n",
    "\n",
    "\n",
    "Numeric_Obesity = []\n",
    "for x in df[\"Obesity\"]:\n",
    "    if (x== \"No\"):\n",
    "        Numeric_Obesity.append(0)\n",
    "    if (x== \"Yes\"):\n",
    "        Numeric_Obesity.append(1)\n",
    "    \n",
    "df[\"Obesity\"] = Numeric_Obesity\n",
    "print(df[\"Obesity\"])\n",
    "\n",
    "\n",
    "Numeric_Exercise_Induced_Angina = []\n",
    "for x in df[\"Exercise Induced Angina\"]:\n",
    "    if (x== \"No\"):\n",
    "        Numeric_Exercise_Induced_Angina.append(0)\n",
    "    if (x== \"Yes\"):\n",
    "        Numeric_Exercise_Induced_Angina.append(1)\n",
    "    \n",
    "df[\"Exercise Induced Angina\"] = Numeric_Exercise_Induced_Angina\n",
    "print(df[\"Exercise Induced Angina\"])\n",
    "\n",
    "\n",
    "Numeric_Smoking = []\n",
    "for x in df[\"Smoking\"]:\n",
    "    if (x== \"Never\"):\n",
    "        Numeric_Smoking.append(0)\n",
    "    if (x== \"Former\"):\n",
    "        Numeric_Smoking.append(1)\n",
    "    if (x== \"Current\"):\n",
    "        Numeric_Smoking.append(2)\n",
    "\n",
    "df[\"Smoking\"] = Numeric_Smoking\n",
    "print(df[\"Smoking\"])\n",
    "\n",
    "\n",
    "\n",
    "Numeric_Chest_Pain_type = []\n",
    "for x in df[\"Chest Pain Type\"]:\n",
    "    if (x== \"Typical Angina\"):\n",
    "        Numeric_Chest_Pain_type.append(0)\n",
    "    if (x== \"Atypical Angina\"):\n",
    "        Numeric_Chest_Pain_type.append(1)\n",
    "    if (x== \"Non-anginal Pain\"):\n",
    "        Numeric_Chest_Pain_type.append(2)\n",
    "    if (x== \"Asymptomatic\"):\n",
    "        Numeric_Chest_Pain_type.append(3)\n",
    "\n",
    "df[\"Chest Pain Type\"] = Numeric_Chest_Pain_type\n",
    "print(df[\"Chest Pain Type\"])\n",
    "\n",
    "\n"
   ]
  },
  {
   "cell_type": "markdown",
   "id": "db8c5fb4-ef6b-4936-9b12-a267a13c650b",
   "metadata": {},
   "source": [
    "#### I will now Normalize all of the numerical values."
   ]
  },
  {
   "cell_type": "code",
   "execution_count": 18,
   "id": "7417ca8a-80ff-44fa-aab7-c4e2d3c449f8",
   "metadata": {},
   "outputs": [
    {
     "name": "stdout",
     "output_type": "stream",
     "text": [
      "          Age  Gender  Cholesterol  Blood Pressure  Heart Rate  Smoking  \\\n",
      "0    1.443811       0    -0.378816       -0.616978   -1.149564        2   \n",
      "1   -0.272968       1    -0.793219        1.126219   -1.497811        2   \n",
      "2    0.044954       1    -0.275215       -1.678054   -1.062502        0   \n",
      "3    1.062305       0    -1.000420       -1.715950   -0.627193        2   \n",
      "4    0.617214       0    -1.345756        1.050428    1.201105        0   \n",
      "..        ...     ...          ...             ...         ...      ...   \n",
      "995  0.235707       0     0.329122       -0.920143    0.591672        0   \n",
      "996  1.634564       0     1.451463        0.368307   -0.278946        0   \n",
      "997  1.698149       1    -1.708358        1.656757    0.156363        0   \n",
      "998  0.490045       0     1.313329        0.595681   -0.975441        1   \n",
      "999  0.044954       1    -0.413349       -0.730665    0.243425        2   \n",
      "\n",
      "     Alcohol Intake  Exercise Hours  Family History  Diabetes  Obesity  \\\n",
      "0                 2       -1.202696               0         0        1   \n",
      "1                 0        0.160519               0         0        0   \n",
      "2                 2       -0.521089               1         0        1   \n",
      "3                 0       -0.180285               0         1        0   \n",
      "4                 0        0.501322               0         1        0   \n",
      "..              ...             ...             ...       ...      ...   \n",
      "995               2        0.160519               0         1        1   \n",
      "996               0        0.501322               0         0        0   \n",
      "997               1       -0.180285               1         0        1   \n",
      "998               0        1.182930               1         1        0   \n",
      "999               0        0.501322               0         0        1   \n",
      "\n",
      "     Stress Level  Blood Sugar  Exercise Induced Angina  Chest Pain Type  \\\n",
      "0        0.831501    -0.434364                        1                1   \n",
      "1        1.184730    -1.769528                        1                0   \n",
      "2       -0.228186     1.663750                        1                1   \n",
      "3        0.478272    -0.761343                        1                2   \n",
      "4       -1.287873     1.309523                        1                3   \n",
      "..            ...          ...                      ...              ...   \n",
      "995      1.537959    -0.407116                        0                2   \n",
      "996      1.537959     1.663750                        1                0   \n",
      "997      0.831501     1.473012                        1                3   \n",
      "998     -0.228186     1.064289                        1                1   \n",
      "999     -0.228186     0.710062                        1                3   \n",
      "\n",
      "     Heart Disease  \n",
      "0                1  \n",
      "1                0  \n",
      "2                1  \n",
      "3                0  \n",
      "4                0  \n",
      "..             ...  \n",
      "995              1  \n",
      "996              1  \n",
      "997              0  \n",
      "998              1  \n",
      "999              1  \n",
      "\n",
      "[1000 rows x 16 columns]\n"
     ]
    }
   ],
   "source": [
    "df[\"Age\"] = (df[\"Age\"]-df[\"Age\"].mean())/(df[\"Age\"].std())\n",
    "\n",
    "df[\"Cholesterol\"] = (df[\"Cholesterol\"]-df[\"Cholesterol\"].mean())/(df[\"Cholesterol\"].std()) \n",
    "\n",
    "df[\"Blood Pressure\"] = (df[\"Blood Pressure\"]-df[\"Blood Pressure\"].mean())/(df[\"Blood Pressure\"].std()) \n",
    "\n",
    "df[\"Heart Rate\"] = (df[\"Heart Rate\"]-df[\"Heart Rate\"].mean())/(df[\"Heart Rate\"].std()) \n",
    "\n",
    "df[\"Exercise Hours\"] = (df[\"Exercise Hours\"]-df[\"Exercise Hours\"].mean())/(df[\"Exercise Hours\"].std()) \n",
    "\n",
    "df[\"Stress Level\"] = (df[\"Stress Level\"]-df[\"Stress Level\"].mean())/(df[\"Stress Level\"].std()) \n",
    "\n",
    "df[\"Blood Sugar\"] = (df[\"Blood Sugar\"]-df[\"Blood Sugar\"].mean())/(df[\"Blood Sugar\"].std()) \n",
    "\n",
    "df[\"Age\"] = (df[\"Age\"]-df[\"Age\"].mean())/(df[\"Age\"].std()) \n",
    "\n",
    "print(df)\n",
    "\n",
    "df.drop(df.columns[df.columns.str.contains('unnamed', case=False)], axis=1, inplace=True)\n",
    "  # I saved one time by accident the index, so I'm fixing it"
   ]
  },
  {
   "cell_type": "code",
   "execution_count": 19,
   "id": "ba77fd0f-fafa-46d7-8ed8-af10f4a63095",
   "metadata": {},
   "outputs": [],
   "source": [
    "df.to_csv(\"/home/yair/Documents/Heart_Disease_Dataset_Numeric.csv\",index= False)"
   ]
  },
  {
   "cell_type": "code",
   "execution_count": null,
   "id": "1167227d-be4f-4a25-9854-5b4792b8fd2f",
   "metadata": {},
   "outputs": [],
   "source": []
  },
  {
   "cell_type": "code",
   "execution_count": null,
   "id": "1d81b21e-e912-4319-8f21-a2c85f34a5cf",
   "metadata": {},
   "outputs": [],
   "source": []
  },
  {
   "cell_type": "code",
   "execution_count": null,
   "id": "7a8bf310-ffb4-4f49-a475-5b1af3be18cc",
   "metadata": {},
   "outputs": [],
   "source": []
  },
  {
   "cell_type": "code",
   "execution_count": null,
   "id": "134fe19e-5f4c-4f6c-998e-b5deec63361e",
   "metadata": {},
   "outputs": [],
   "source": []
  },
  {
   "cell_type": "code",
   "execution_count": null,
   "id": "45583b18-5631-48a3-ad48-45187777c41a",
   "metadata": {},
   "outputs": [],
   "source": []
  },
  {
   "cell_type": "code",
   "execution_count": null,
   "id": "dd04bf1e-97e0-4574-960c-5f1d605a2ea0",
   "metadata": {},
   "outputs": [],
   "source": []
  },
  {
   "cell_type": "code",
   "execution_count": null,
   "id": "c1e6886e-677a-45f1-a295-a264a6391cde",
   "metadata": {},
   "outputs": [],
   "source": []
  },
  {
   "cell_type": "code",
   "execution_count": null,
   "id": "9ec178cf-d8a4-458f-a536-ebab564c165b",
   "metadata": {},
   "outputs": [],
   "source": []
  },
  {
   "cell_type": "code",
   "execution_count": null,
   "id": "6d005565-5a96-4e49-9a49-5a7bee7b5117",
   "metadata": {},
   "outputs": [],
   "source": []
  },
  {
   "cell_type": "code",
   "execution_count": null,
   "id": "ae128ee7-2b9f-4d7b-9be4-2ca340a524b9",
   "metadata": {},
   "outputs": [],
   "source": []
  },
  {
   "cell_type": "code",
   "execution_count": null,
   "id": "54ef6b89-fd4c-47a5-8a64-b84845cd3eb9",
   "metadata": {},
   "outputs": [],
   "source": []
  },
  {
   "cell_type": "code",
   "execution_count": null,
   "id": "2bd1a2d3-129c-47f1-ade6-083429946a41",
   "metadata": {},
   "outputs": [],
   "source": []
  },
  {
   "cell_type": "code",
   "execution_count": null,
   "id": "6cdbfaf8-91c4-4856-8311-e901c7bba073",
   "metadata": {},
   "outputs": [],
   "source": []
  },
  {
   "cell_type": "code",
   "execution_count": null,
   "id": "e04e9dfd-56c9-4a62-8356-6b48ccdf2952",
   "metadata": {},
   "outputs": [],
   "source": []
  },
  {
   "cell_type": "code",
   "execution_count": null,
   "id": "f4ccb41b-1828-4d12-b3be-bb0ee091d76e",
   "metadata": {},
   "outputs": [],
   "source": []
  },
  {
   "cell_type": "code",
   "execution_count": null,
   "id": "aa222edf-f898-416d-8e7e-40225eb7e1ee",
   "metadata": {},
   "outputs": [],
   "source": []
  },
  {
   "cell_type": "code",
   "execution_count": null,
   "id": "b2426cf1-9e20-475a-9e57-0f578a2024c7",
   "metadata": {},
   "outputs": [],
   "source": []
  },
  {
   "cell_type": "code",
   "execution_count": null,
   "id": "b563b863-e9c5-4f45-8c99-df257e7e6072",
   "metadata": {},
   "outputs": [],
   "source": []
  },
  {
   "cell_type": "code",
   "execution_count": null,
   "id": "46faf372-e78d-4108-ae0c-36f63dff7390",
   "metadata": {},
   "outputs": [],
   "source": []
  },
  {
   "cell_type": "code",
   "execution_count": null,
   "id": "2dc7e967-e23a-4045-b543-be4e942d93f5",
   "metadata": {},
   "outputs": [],
   "source": []
  },
  {
   "cell_type": "code",
   "execution_count": null,
   "id": "847467d5-c671-4c2c-9b5e-c4a703963f34",
   "metadata": {},
   "outputs": [],
   "source": []
  },
  {
   "cell_type": "code",
   "execution_count": null,
   "id": "4536f362-34ff-4966-b7a7-bbeabcf5c851",
   "metadata": {},
   "outputs": [],
   "source": []
  },
  {
   "cell_type": "code",
   "execution_count": null,
   "id": "082b599b-0080-4a2a-ab66-d5f9db91d433",
   "metadata": {},
   "outputs": [],
   "source": []
  },
  {
   "cell_type": "code",
   "execution_count": null,
   "id": "da3f2bda-624f-417a-aff0-86c64c0e8bd1",
   "metadata": {},
   "outputs": [],
   "source": []
  },
  {
   "cell_type": "code",
   "execution_count": null,
   "id": "953be30c-b007-406c-8109-6c6c23e90e53",
   "metadata": {},
   "outputs": [],
   "source": []
  },
  {
   "cell_type": "code",
   "execution_count": null,
   "id": "04547d2a-0a58-4eb7-83fc-3eccf7b2cfcf",
   "metadata": {},
   "outputs": [],
   "source": []
  },
  {
   "cell_type": "code",
   "execution_count": null,
   "id": "05530faa-3b8b-47c4-b5bc-7dcb81ef317d",
   "metadata": {},
   "outputs": [],
   "source": []
  },
  {
   "cell_type": "code",
   "execution_count": null,
   "id": "906a5d16-f784-4fd4-9e1e-eea6b5a49054",
   "metadata": {},
   "outputs": [],
   "source": []
  },
  {
   "cell_type": "code",
   "execution_count": null,
   "id": "925020c3-2042-4171-b4e8-56cef1e44675",
   "metadata": {},
   "outputs": [],
   "source": []
  },
  {
   "cell_type": "code",
   "execution_count": null,
   "id": "1e003c42-a457-4baf-ac9d-273e82fc843b",
   "metadata": {},
   "outputs": [],
   "source": []
  },
  {
   "cell_type": "code",
   "execution_count": null,
   "id": "3d402323-8f73-4726-b2a8-ecc44c631588",
   "metadata": {},
   "outputs": [],
   "source": []
  },
  {
   "cell_type": "code",
   "execution_count": null,
   "id": "4b6e02d1-042f-49d7-9c46-dc48e81b95a3",
   "metadata": {},
   "outputs": [],
   "source": []
  },
  {
   "cell_type": "code",
   "execution_count": null,
   "id": "841408df-0a4a-4743-9bd3-a199f1ad7b49",
   "metadata": {},
   "outputs": [],
   "source": []
  },
  {
   "cell_type": "code",
   "execution_count": null,
   "id": "ad237272-ba07-40c6-ac85-7f9095f28e16",
   "metadata": {},
   "outputs": [],
   "source": []
  },
  {
   "cell_type": "code",
   "execution_count": null,
   "id": "ee1cf0a3-f0a2-479b-a23a-72b623496c30",
   "metadata": {},
   "outputs": [],
   "source": []
  },
  {
   "cell_type": "code",
   "execution_count": null,
   "id": "761acf08-2305-4b00-a52b-c2e6c2b0503e",
   "metadata": {},
   "outputs": [],
   "source": []
  },
  {
   "cell_type": "code",
   "execution_count": null,
   "id": "872eb4e1-87f0-44ad-bfed-b76cb6b8c075",
   "metadata": {},
   "outputs": [],
   "source": []
  },
  {
   "cell_type": "code",
   "execution_count": null,
   "id": "56890372-ccf2-447d-98d8-78d229485d87",
   "metadata": {},
   "outputs": [],
   "source": []
  },
  {
   "cell_type": "code",
   "execution_count": null,
   "id": "1a720a1a-b369-4971-b865-124ba8080b7c",
   "metadata": {},
   "outputs": [],
   "source": []
  },
  {
   "cell_type": "code",
   "execution_count": null,
   "id": "bc5068ef-25b4-481f-923c-ea394ca9b2ac",
   "metadata": {},
   "outputs": [],
   "source": []
  },
  {
   "cell_type": "code",
   "execution_count": null,
   "id": "c84d1e74-22fa-4346-a6b1-585e5d38d265",
   "metadata": {},
   "outputs": [],
   "source": []
  },
  {
   "cell_type": "code",
   "execution_count": null,
   "id": "cacd54c6-f801-439d-818b-3b289105052c",
   "metadata": {},
   "outputs": [],
   "source": []
  },
  {
   "cell_type": "code",
   "execution_count": null,
   "id": "fec47d88-3913-4416-adad-c2e9998f7133",
   "metadata": {},
   "outputs": [],
   "source": []
  },
  {
   "cell_type": "code",
   "execution_count": null,
   "id": "7944c604-5ab2-49b9-8732-56dcaf1740fa",
   "metadata": {},
   "outputs": [],
   "source": []
  },
  {
   "cell_type": "code",
   "execution_count": null,
   "id": "53298533-6640-4214-aa44-f0a6516b70ee",
   "metadata": {},
   "outputs": [],
   "source": []
  },
  {
   "cell_type": "code",
   "execution_count": null,
   "id": "00d763df-6308-4fef-b591-816dbe17dfac",
   "metadata": {},
   "outputs": [],
   "source": []
  },
  {
   "cell_type": "code",
   "execution_count": null,
   "id": "3477f741-ffd8-4609-ac67-4716654a0019",
   "metadata": {},
   "outputs": [],
   "source": []
  },
  {
   "cell_type": "code",
   "execution_count": null,
   "id": "6728ce20-39d9-4f03-9ee6-ac77d374fd78",
   "metadata": {},
   "outputs": [],
   "source": []
  },
  {
   "cell_type": "code",
   "execution_count": null,
   "id": "780b87d9-64f8-444c-a93d-eae241b2a1f3",
   "metadata": {},
   "outputs": [],
   "source": []
  },
  {
   "cell_type": "code",
   "execution_count": null,
   "id": "91de2822-06a5-4203-96d8-0ca3b85080b5",
   "metadata": {},
   "outputs": [],
   "source": []
  },
  {
   "cell_type": "code",
   "execution_count": null,
   "id": "58b9d948-d498-45b8-919f-bf277ad44dee",
   "metadata": {},
   "outputs": [],
   "source": []
  },
  {
   "cell_type": "code",
   "execution_count": null,
   "id": "dd96590a-209f-45a5-a7b0-01caf2652eb6",
   "metadata": {},
   "outputs": [],
   "source": []
  },
  {
   "cell_type": "code",
   "execution_count": null,
   "id": "74d144f6-4124-47c0-a2e8-561e5947a79b",
   "metadata": {},
   "outputs": [],
   "source": []
  },
  {
   "cell_type": "code",
   "execution_count": null,
   "id": "493b301c-c6b8-4cc0-a428-ddd85e80e734",
   "metadata": {},
   "outputs": [],
   "source": []
  },
  {
   "cell_type": "code",
   "execution_count": null,
   "id": "396107d0-bbed-41ce-933c-2f47003efe0b",
   "metadata": {},
   "outputs": [],
   "source": []
  },
  {
   "cell_type": "code",
   "execution_count": null,
   "id": "2e4cabc9-e589-4f40-bf6a-607af3f97e0e",
   "metadata": {},
   "outputs": [],
   "source": []
  },
  {
   "cell_type": "code",
   "execution_count": null,
   "id": "af37618b-bc89-4de9-baef-411fe2eb6eeb",
   "metadata": {},
   "outputs": [],
   "source": []
  },
  {
   "cell_type": "code",
   "execution_count": null,
   "id": "a7012bb7-638a-461d-8b29-da622df2bd63",
   "metadata": {},
   "outputs": [],
   "source": []
  },
  {
   "cell_type": "code",
   "execution_count": null,
   "id": "491bda7e-37a2-4293-be20-72753492c6d4",
   "metadata": {},
   "outputs": [],
   "source": []
  },
  {
   "cell_type": "code",
   "execution_count": null,
   "id": "00bd2d3f-bf42-42f8-baea-6d216ae51007",
   "metadata": {},
   "outputs": [],
   "source": []
  },
  {
   "cell_type": "code",
   "execution_count": null,
   "id": "42477393-9d73-4062-abd6-a86557b13144",
   "metadata": {},
   "outputs": [],
   "source": []
  },
  {
   "cell_type": "code",
   "execution_count": null,
   "id": "0f7e20a6-1711-4430-aa67-a441a3b71fba",
   "metadata": {},
   "outputs": [],
   "source": []
  },
  {
   "cell_type": "code",
   "execution_count": null,
   "id": "927ebe02-9d4c-41ca-ae22-3708f7467919",
   "metadata": {},
   "outputs": [],
   "source": []
  },
  {
   "cell_type": "code",
   "execution_count": null,
   "id": "8ab23459-fa01-45ad-bad9-c7c984fd9422",
   "metadata": {},
   "outputs": [],
   "source": []
  },
  {
   "cell_type": "code",
   "execution_count": null,
   "id": "17d12336-fc11-4560-a3d6-80736d4b77de",
   "metadata": {},
   "outputs": [],
   "source": []
  },
  {
   "cell_type": "code",
   "execution_count": null,
   "id": "80d43f9f-96da-4384-adae-30b1bb071aae",
   "metadata": {},
   "outputs": [],
   "source": []
  },
  {
   "cell_type": "code",
   "execution_count": null,
   "id": "b9d7f508-458b-42ab-a9d5-3e712a73999c",
   "metadata": {},
   "outputs": [],
   "source": []
  },
  {
   "cell_type": "code",
   "execution_count": null,
   "id": "fb0c9a9f-b311-4fdb-b8cb-5d0a6d6ae1d5",
   "metadata": {},
   "outputs": [],
   "source": []
  },
  {
   "cell_type": "code",
   "execution_count": null,
   "id": "7ee6db57-0ff2-4b81-9391-928c96e6ea02",
   "metadata": {},
   "outputs": [],
   "source": []
  },
  {
   "cell_type": "code",
   "execution_count": null,
   "id": "64abc281-ae65-4853-9654-791d07344a94",
   "metadata": {},
   "outputs": [],
   "source": []
  },
  {
   "cell_type": "code",
   "execution_count": null,
   "id": "54ce923e-3ae5-49c0-8897-4b9dc88711df",
   "metadata": {},
   "outputs": [],
   "source": []
  },
  {
   "cell_type": "code",
   "execution_count": null,
   "id": "84a8d59b-4295-4009-991f-caf9611c7da7",
   "metadata": {},
   "outputs": [],
   "source": []
  },
  {
   "cell_type": "code",
   "execution_count": null,
   "id": "8a429eff-831d-42e6-975d-4189aa2cbbaa",
   "metadata": {},
   "outputs": [],
   "source": []
  },
  {
   "cell_type": "code",
   "execution_count": null,
   "id": "b1d00c2d-2d1c-433e-8623-609008d613e6",
   "metadata": {},
   "outputs": [],
   "source": []
  },
  {
   "cell_type": "code",
   "execution_count": null,
   "id": "ed5a6843-130a-4ff0-a611-3f59ab02d521",
   "metadata": {},
   "outputs": [],
   "source": []
  },
  {
   "cell_type": "code",
   "execution_count": null,
   "id": "0b72b0c6-2438-463a-b261-88e4c28037be",
   "metadata": {},
   "outputs": [],
   "source": []
  },
  {
   "cell_type": "code",
   "execution_count": null,
   "id": "e267d8b9-7e35-410a-8b0d-b119f3fc0a23",
   "metadata": {},
   "outputs": [],
   "source": []
  },
  {
   "cell_type": "code",
   "execution_count": null,
   "id": "1c606b11-cd85-47b2-bc2b-730c6e2bdaea",
   "metadata": {},
   "outputs": [],
   "source": []
  },
  {
   "cell_type": "code",
   "execution_count": null,
   "id": "552ecf6b-a0e6-411d-9c0f-58f2205a99c9",
   "metadata": {},
   "outputs": [],
   "source": []
  },
  {
   "cell_type": "code",
   "execution_count": null,
   "id": "7602ef3a-2de1-4f0d-91cb-7ded8a51f3a3",
   "metadata": {},
   "outputs": [],
   "source": []
  },
  {
   "cell_type": "code",
   "execution_count": null,
   "id": "4ba980f0-e161-42f1-9180-bb06f05788be",
   "metadata": {},
   "outputs": [],
   "source": []
  },
  {
   "cell_type": "code",
   "execution_count": null,
   "id": "4d3ae720-54fa-46aa-8fcf-d60dc83a1af0",
   "metadata": {},
   "outputs": [],
   "source": []
  },
  {
   "cell_type": "code",
   "execution_count": null,
   "id": "00ea1134-962f-41f1-a7a5-2de3773ea460",
   "metadata": {},
   "outputs": [],
   "source": []
  },
  {
   "cell_type": "code",
   "execution_count": null,
   "id": "92ebc23a-f7e5-4b5a-af05-ff7c754628e6",
   "metadata": {},
   "outputs": [],
   "source": []
  },
  {
   "cell_type": "code",
   "execution_count": null,
   "id": "89a53643-5a56-40d9-b2c0-777dc6715469",
   "metadata": {},
   "outputs": [],
   "source": []
  },
  {
   "cell_type": "code",
   "execution_count": null,
   "id": "fe3b8461-1d69-4bb8-a7cf-0fde98bcd4d4",
   "metadata": {},
   "outputs": [],
   "source": []
  },
  {
   "cell_type": "code",
   "execution_count": null,
   "id": "e2c60506-6ac8-4a65-94de-f61584ae1978",
   "metadata": {},
   "outputs": [],
   "source": []
  },
  {
   "cell_type": "code",
   "execution_count": null,
   "id": "4e608738-43ce-4145-beab-c85a19879d15",
   "metadata": {},
   "outputs": [],
   "source": []
  },
  {
   "cell_type": "code",
   "execution_count": null,
   "id": "3238ae74-07cf-4b8e-8439-f69c2cf55a6a",
   "metadata": {},
   "outputs": [],
   "source": []
  },
  {
   "cell_type": "code",
   "execution_count": null,
   "id": "49fadfde-02aa-4d7a-84ae-4c5d5978cb58",
   "metadata": {},
   "outputs": [],
   "source": []
  },
  {
   "cell_type": "code",
   "execution_count": null,
   "id": "02fb589f-b4ab-4d23-afdf-ae6a502b2a40",
   "metadata": {},
   "outputs": [],
   "source": []
  },
  {
   "cell_type": "code",
   "execution_count": null,
   "id": "8fc908f9-4c44-4c49-865e-7d8b5921f694",
   "metadata": {},
   "outputs": [],
   "source": []
  },
  {
   "cell_type": "code",
   "execution_count": null,
   "id": "427a6334-8cba-4628-a464-49740cb4dda8",
   "metadata": {},
   "outputs": [],
   "source": []
  },
  {
   "cell_type": "code",
   "execution_count": null,
   "id": "12c7d267-9e97-48d2-8402-5aac859f3271",
   "metadata": {},
   "outputs": [],
   "source": []
  },
  {
   "cell_type": "code",
   "execution_count": null,
   "id": "1081d64d-6f9b-49e7-8c1a-4081d1f2e2e7",
   "metadata": {},
   "outputs": [],
   "source": []
  },
  {
   "cell_type": "code",
   "execution_count": null,
   "id": "95422809-86a8-4039-9db4-84ecb438ebd6",
   "metadata": {},
   "outputs": [],
   "source": []
  },
  {
   "cell_type": "code",
   "execution_count": null,
   "id": "b76ac2c8-a556-4925-a002-6fcd3ef7765b",
   "metadata": {},
   "outputs": [],
   "source": []
  },
  {
   "cell_type": "code",
   "execution_count": null,
   "id": "af9602cb-19a3-4615-8805-7688374f56c7",
   "metadata": {},
   "outputs": [],
   "source": []
  },
  {
   "cell_type": "code",
   "execution_count": null,
   "id": "5b9e11f9-bae3-4031-9592-3c5a874bbb53",
   "metadata": {},
   "outputs": [],
   "source": []
  },
  {
   "cell_type": "code",
   "execution_count": null,
   "id": "9a1cbc33-5993-4445-a1a0-ead46c1faa20",
   "metadata": {},
   "outputs": [],
   "source": []
  },
  {
   "cell_type": "code",
   "execution_count": null,
   "id": "9aa5fece-40be-4cc0-ad4e-bdbe267aab54",
   "metadata": {},
   "outputs": [],
   "source": []
  },
  {
   "cell_type": "code",
   "execution_count": null,
   "id": "857125a4-8914-429b-a07a-9719955da854",
   "metadata": {},
   "outputs": [],
   "source": []
  },
  {
   "cell_type": "code",
   "execution_count": null,
   "id": "84391a8d-5ec5-46a1-940a-b90c6a0a2bcb",
   "metadata": {},
   "outputs": [],
   "source": []
  },
  {
   "cell_type": "code",
   "execution_count": null,
   "id": "f277eecc-1b42-4d13-8d51-32667dbb3091",
   "metadata": {},
   "outputs": [],
   "source": []
  },
  {
   "cell_type": "code",
   "execution_count": null,
   "id": "df1b4704-ef11-4db0-b409-f4e1ab97fe23",
   "metadata": {},
   "outputs": [],
   "source": []
  },
  {
   "cell_type": "code",
   "execution_count": null,
   "id": "4d801a91-7626-4866-b466-a3174503f7ca",
   "metadata": {},
   "outputs": [],
   "source": []
  },
  {
   "cell_type": "code",
   "execution_count": null,
   "id": "fdfd1098-6fdc-4ea2-886a-fcaa1906cac5",
   "metadata": {},
   "outputs": [],
   "source": []
  },
  {
   "cell_type": "code",
   "execution_count": null,
   "id": "f8a6dd91-eb49-48f1-b60d-7d626124eb6e",
   "metadata": {},
   "outputs": [],
   "source": []
  },
  {
   "cell_type": "code",
   "execution_count": null,
   "id": "42aaf7e0-8f51-4ee4-88c5-ce3b4a5b7fa6",
   "metadata": {},
   "outputs": [],
   "source": []
  },
  {
   "cell_type": "code",
   "execution_count": null,
   "id": "c842a561-8680-44f4-8a03-16b3ab6e99fd",
   "metadata": {},
   "outputs": [],
   "source": []
  },
  {
   "cell_type": "code",
   "execution_count": null,
   "id": "b693c0de-9608-4264-be91-138b88dfc42d",
   "metadata": {},
   "outputs": [],
   "source": []
  },
  {
   "cell_type": "code",
   "execution_count": null,
   "id": "f608e9f8-d652-4323-87f1-6dc0fc06f5bf",
   "metadata": {},
   "outputs": [],
   "source": []
  },
  {
   "cell_type": "code",
   "execution_count": null,
   "id": "67d080af-56a9-486a-bc44-8ee1b0b4668d",
   "metadata": {},
   "outputs": [],
   "source": []
  },
  {
   "cell_type": "code",
   "execution_count": null,
   "id": "d01394ba-3068-428e-b98a-8398fdd22a67",
   "metadata": {},
   "outputs": [],
   "source": []
  },
  {
   "cell_type": "code",
   "execution_count": null,
   "id": "3714b1a0-4aae-47d7-9d8a-81ff1d92db87",
   "metadata": {},
   "outputs": [],
   "source": []
  },
  {
   "cell_type": "code",
   "execution_count": null,
   "id": "8b9fa997-3a0f-4b63-a83f-9d905dad8c15",
   "metadata": {},
   "outputs": [],
   "source": []
  },
  {
   "cell_type": "code",
   "execution_count": null,
   "id": "9d224800-94f8-45cd-a9a2-6283a02a7fb7",
   "metadata": {},
   "outputs": [],
   "source": []
  },
  {
   "cell_type": "code",
   "execution_count": null,
   "id": "72c9025c-295a-4344-be16-376572f5c223",
   "metadata": {},
   "outputs": [],
   "source": []
  },
  {
   "cell_type": "code",
   "execution_count": null,
   "id": "4721702a-cf20-46eb-9c3c-4bb61b5287b6",
   "metadata": {},
   "outputs": [],
   "source": []
  },
  {
   "cell_type": "code",
   "execution_count": null,
   "id": "f78a7a80-3ea2-4b90-9ac7-f10dee97212c",
   "metadata": {},
   "outputs": [],
   "source": []
  },
  {
   "cell_type": "code",
   "execution_count": null,
   "id": "1c3bf52f-67af-4f67-b74d-055244b058f6",
   "metadata": {},
   "outputs": [],
   "source": []
  },
  {
   "cell_type": "code",
   "execution_count": null,
   "id": "34b21f66-1169-4035-b012-f29ee2d69940",
   "metadata": {},
   "outputs": [],
   "source": []
  },
  {
   "cell_type": "code",
   "execution_count": null,
   "id": "45dec46d-f191-4c12-bc5d-a3f53fab9b61",
   "metadata": {},
   "outputs": [],
   "source": []
  },
  {
   "cell_type": "code",
   "execution_count": null,
   "id": "3e12d4c3-d97a-4e38-bdae-e79e1cf21e26",
   "metadata": {},
   "outputs": [],
   "source": []
  },
  {
   "cell_type": "code",
   "execution_count": null,
   "id": "150dcf6d-e528-4603-8eb2-41aa52c5f69d",
   "metadata": {},
   "outputs": [],
   "source": []
  },
  {
   "cell_type": "code",
   "execution_count": null,
   "id": "341d205e-e472-4601-b90e-5cc482c4072a",
   "metadata": {},
   "outputs": [],
   "source": []
  },
  {
   "cell_type": "code",
   "execution_count": null,
   "id": "09503bba-9772-4e9a-b0bb-eaab7d7e3ff2",
   "metadata": {},
   "outputs": [],
   "source": []
  },
  {
   "cell_type": "code",
   "execution_count": null,
   "id": "854f971c-5cc3-462b-8024-6b043d57d463",
   "metadata": {},
   "outputs": [],
   "source": []
  },
  {
   "cell_type": "code",
   "execution_count": null,
   "id": "aa322333-18aa-4501-8c3f-d7b09b57a17e",
   "metadata": {},
   "outputs": [],
   "source": []
  },
  {
   "cell_type": "code",
   "execution_count": null,
   "id": "ab12946d-890f-44e1-955a-a727578ff80a",
   "metadata": {},
   "outputs": [],
   "source": []
  },
  {
   "cell_type": "code",
   "execution_count": null,
   "id": "7c3771e4-9b9c-47cc-9591-c372472c6e0f",
   "metadata": {},
   "outputs": [],
   "source": []
  },
  {
   "cell_type": "code",
   "execution_count": null,
   "id": "6a9c6458-6497-466b-a626-09f0d8225bc5",
   "metadata": {},
   "outputs": [],
   "source": []
  },
  {
   "cell_type": "code",
   "execution_count": null,
   "id": "648d307b-a64a-4504-836c-3f848dc6bd87",
   "metadata": {},
   "outputs": [],
   "source": []
  },
  {
   "cell_type": "code",
   "execution_count": null,
   "id": "399e0674-9ece-429d-ae0c-cda8b7c53a5d",
   "metadata": {},
   "outputs": [],
   "source": []
  },
  {
   "cell_type": "code",
   "execution_count": null,
   "id": "33fe6961-3cbe-40a4-bdbc-802a3707c94b",
   "metadata": {},
   "outputs": [],
   "source": []
  },
  {
   "cell_type": "code",
   "execution_count": null,
   "id": "ff84298f-a8d6-4702-bc2a-c6aa0a90637d",
   "metadata": {},
   "outputs": [],
   "source": []
  },
  {
   "cell_type": "code",
   "execution_count": null,
   "id": "afd3297e-5771-48a3-8f9d-26a407be649c",
   "metadata": {},
   "outputs": [],
   "source": []
  },
  {
   "cell_type": "code",
   "execution_count": null,
   "id": "53fe69b9-cde0-4073-af7c-c199de3b45c7",
   "metadata": {},
   "outputs": [],
   "source": []
  },
  {
   "cell_type": "code",
   "execution_count": null,
   "id": "7bdde9e4-07d5-4a31-9319-64e1bfb99f57",
   "metadata": {},
   "outputs": [],
   "source": []
  },
  {
   "cell_type": "code",
   "execution_count": null,
   "id": "1f29f32d-deaa-4a72-8b06-4a0e8460807a",
   "metadata": {},
   "outputs": [],
   "source": []
  },
  {
   "cell_type": "code",
   "execution_count": null,
   "id": "8d370495-6deb-43cd-b559-ee1d1158ec26",
   "metadata": {},
   "outputs": [],
   "source": []
  },
  {
   "cell_type": "code",
   "execution_count": null,
   "id": "9210b76c-d298-48de-8158-480f096a6526",
   "metadata": {},
   "outputs": [],
   "source": []
  },
  {
   "cell_type": "code",
   "execution_count": null,
   "id": "467056fd-53f4-47ae-9d48-0765a9f37fa5",
   "metadata": {},
   "outputs": [],
   "source": []
  },
  {
   "cell_type": "code",
   "execution_count": null,
   "id": "96d2ce29-b541-4ced-b58c-09364af596cf",
   "metadata": {},
   "outputs": [],
   "source": []
  },
  {
   "cell_type": "code",
   "execution_count": null,
   "id": "1b5f5a79-a363-4e64-a797-461b7670c5fc",
   "metadata": {},
   "outputs": [],
   "source": []
  },
  {
   "cell_type": "code",
   "execution_count": null,
   "id": "dcf8f886-2f48-458c-8e3e-75c9676faa5c",
   "metadata": {},
   "outputs": [],
   "source": []
  },
  {
   "cell_type": "code",
   "execution_count": null,
   "id": "62b8b855-43bb-4eb0-a904-76f2bc92cb77",
   "metadata": {},
   "outputs": [],
   "source": []
  },
  {
   "cell_type": "code",
   "execution_count": null,
   "id": "477593e8-261b-4b85-999f-d56e6f14a695",
   "metadata": {},
   "outputs": [],
   "source": []
  },
  {
   "cell_type": "code",
   "execution_count": null,
   "id": "06f40972-90a9-424c-b689-af990acacac4",
   "metadata": {},
   "outputs": [],
   "source": []
  },
  {
   "cell_type": "code",
   "execution_count": null,
   "id": "6a9082f1-7f12-42b1-a807-986a3960a6e7",
   "metadata": {},
   "outputs": [],
   "source": []
  },
  {
   "cell_type": "code",
   "execution_count": null,
   "id": "a26a9826-3a21-48ad-a9e2-723e790a2898",
   "metadata": {},
   "outputs": [],
   "source": []
  },
  {
   "cell_type": "code",
   "execution_count": null,
   "id": "e8f9379a-bb90-4faa-ae3b-a3a5b962e738",
   "metadata": {},
   "outputs": [],
   "source": []
  },
  {
   "cell_type": "code",
   "execution_count": null,
   "id": "f8b8e457-9449-4957-b428-8b6d9acd58aa",
   "metadata": {},
   "outputs": [],
   "source": []
  },
  {
   "cell_type": "code",
   "execution_count": null,
   "id": "7c42f27e-37e5-4323-aa0d-d2562aaecbc7",
   "metadata": {},
   "outputs": [],
   "source": []
  },
  {
   "cell_type": "code",
   "execution_count": null,
   "id": "2d142e94-36fb-478c-bb28-d46a3746d23a",
   "metadata": {},
   "outputs": [],
   "source": []
  },
  {
   "cell_type": "code",
   "execution_count": null,
   "id": "9bbc9da8-e86f-49f9-af68-e9bfedd3e5be",
   "metadata": {},
   "outputs": [],
   "source": []
  },
  {
   "cell_type": "code",
   "execution_count": null,
   "id": "3b82ba85-bf1a-4932-8885-1e4bd2e4c9fb",
   "metadata": {},
   "outputs": [],
   "source": []
  },
  {
   "cell_type": "code",
   "execution_count": null,
   "id": "b81bc4b3-8838-425c-8099-e95d10a1b6bf",
   "metadata": {},
   "outputs": [],
   "source": []
  },
  {
   "cell_type": "code",
   "execution_count": null,
   "id": "2dd86ad1-1156-4f93-9896-2a7ce45629e0",
   "metadata": {},
   "outputs": [],
   "source": []
  },
  {
   "cell_type": "code",
   "execution_count": null,
   "id": "1e916e59-d2e5-4109-a352-7860caf0e20d",
   "metadata": {},
   "outputs": [],
   "source": []
  },
  {
   "cell_type": "code",
   "execution_count": null,
   "id": "efb487cd-7566-4292-89cd-e08638a31c45",
   "metadata": {},
   "outputs": [],
   "source": []
  },
  {
   "cell_type": "code",
   "execution_count": null,
   "id": "fb3e0d4d-5fa5-4b67-933a-b35006b768f3",
   "metadata": {},
   "outputs": [],
   "source": []
  },
  {
   "cell_type": "code",
   "execution_count": null,
   "id": "138b4184-dd42-471e-b1cd-8884ad6c1b4e",
   "metadata": {},
   "outputs": [],
   "source": []
  },
  {
   "cell_type": "code",
   "execution_count": null,
   "id": "3d5b4d86-c775-4372-9182-25bf47bc0b3a",
   "metadata": {},
   "outputs": [],
   "source": []
  },
  {
   "cell_type": "code",
   "execution_count": null,
   "id": "66b9ed5c-18c9-4bcd-870b-6f6906fbb6d4",
   "metadata": {},
   "outputs": [],
   "source": []
  },
  {
   "cell_type": "code",
   "execution_count": null,
   "id": "a95ce4a9-c562-4e5f-882d-952128b2a448",
   "metadata": {},
   "outputs": [],
   "source": []
  },
  {
   "cell_type": "code",
   "execution_count": null,
   "id": "faabeee1-0922-40a9-ab03-6c41eb9eb669",
   "metadata": {},
   "outputs": [],
   "source": []
  },
  {
   "cell_type": "code",
   "execution_count": null,
   "id": "a8b6d504-005f-4457-9399-ada3bac6f178",
   "metadata": {},
   "outputs": [],
   "source": []
  },
  {
   "cell_type": "code",
   "execution_count": null,
   "id": "4e565d5a-b472-461c-a5a7-ba2bb368a907",
   "metadata": {},
   "outputs": [],
   "source": []
  },
  {
   "cell_type": "code",
   "execution_count": null,
   "id": "cc5f4563-c1ab-4312-b711-7dc4a44e8195",
   "metadata": {},
   "outputs": [],
   "source": []
  },
  {
   "cell_type": "code",
   "execution_count": null,
   "id": "df0bc0c9-e7b7-4d58-b697-3696c53b4e67",
   "metadata": {},
   "outputs": [],
   "source": []
  },
  {
   "cell_type": "code",
   "execution_count": null,
   "id": "e94d5737-fd30-44bd-87af-35369fd0d8e0",
   "metadata": {},
   "outputs": [],
   "source": []
  },
  {
   "cell_type": "code",
   "execution_count": null,
   "id": "36cd1277-c76a-4b2f-b5c3-1a99dedd8f3a",
   "metadata": {},
   "outputs": [],
   "source": []
  },
  {
   "cell_type": "code",
   "execution_count": null,
   "id": "a0148f3e-e4e5-4e43-9500-441e9211e9f8",
   "metadata": {},
   "outputs": [],
   "source": []
  },
  {
   "cell_type": "code",
   "execution_count": null,
   "id": "71436994-9a9f-447a-85df-60e7d23805c6",
   "metadata": {},
   "outputs": [],
   "source": []
  },
  {
   "cell_type": "code",
   "execution_count": null,
   "id": "94ce3f7c-0300-41dd-a868-78a91e3fb6a8",
   "metadata": {},
   "outputs": [],
   "source": []
  },
  {
   "cell_type": "code",
   "execution_count": null,
   "id": "9c5f6223-4d80-4f8e-9987-c239e8bfaffa",
   "metadata": {},
   "outputs": [],
   "source": []
  },
  {
   "cell_type": "code",
   "execution_count": null,
   "id": "5769c143-bcfd-457f-90fc-60a64602444a",
   "metadata": {},
   "outputs": [],
   "source": []
  },
  {
   "cell_type": "code",
   "execution_count": null,
   "id": "f366569e-4d0a-4f1a-8df2-af009b67b614",
   "metadata": {},
   "outputs": [],
   "source": []
  },
  {
   "cell_type": "code",
   "execution_count": null,
   "id": "6c83abb0-6beb-4eee-939a-b7fb674ba5a3",
   "metadata": {},
   "outputs": [],
   "source": []
  },
  {
   "cell_type": "code",
   "execution_count": null,
   "id": "7c2ed73a-80ba-4a8f-a795-de7d6825980e",
   "metadata": {},
   "outputs": [],
   "source": []
  },
  {
   "cell_type": "code",
   "execution_count": null,
   "id": "11a21cfa-da36-4b69-a5be-102be84800e1",
   "metadata": {},
   "outputs": [],
   "source": []
  },
  {
   "cell_type": "code",
   "execution_count": null,
   "id": "c15d8340-3781-4c26-8f60-459de1f4d34c",
   "metadata": {},
   "outputs": [],
   "source": []
  },
  {
   "cell_type": "code",
   "execution_count": null,
   "id": "735ac024-cd36-4ced-bee7-6628a530f399",
   "metadata": {},
   "outputs": [],
   "source": []
  },
  {
   "cell_type": "code",
   "execution_count": null,
   "id": "e5cfe759-9dc4-4850-95ea-8b6443fe7ac3",
   "metadata": {},
   "outputs": [],
   "source": []
  },
  {
   "cell_type": "code",
   "execution_count": null,
   "id": "9796dae2-f3ca-47f9-99b1-cc828e328cc6",
   "metadata": {},
   "outputs": [],
   "source": []
  },
  {
   "cell_type": "code",
   "execution_count": null,
   "id": "a74b3bf6-a805-43d9-97ac-030a55aa2328",
   "metadata": {},
   "outputs": [],
   "source": []
  },
  {
   "cell_type": "code",
   "execution_count": null,
   "id": "e53589b1-033e-4929-bc20-45bac4ba2581",
   "metadata": {},
   "outputs": [],
   "source": []
  },
  {
   "cell_type": "code",
   "execution_count": null,
   "id": "21064b03-fd34-4003-97bb-9c48f5f8ddc9",
   "metadata": {},
   "outputs": [],
   "source": []
  },
  {
   "cell_type": "code",
   "execution_count": null,
   "id": "57175a2c-9593-416f-9444-9514d6b53083",
   "metadata": {},
   "outputs": [],
   "source": []
  },
  {
   "cell_type": "code",
   "execution_count": null,
   "id": "6e6cfefd-47b4-4410-bab6-bc8e4f1504ce",
   "metadata": {},
   "outputs": [],
   "source": []
  },
  {
   "cell_type": "code",
   "execution_count": null,
   "id": "9871b3fe-9308-4f29-872b-f5148287c214",
   "metadata": {},
   "outputs": [],
   "source": []
  },
  {
   "cell_type": "code",
   "execution_count": null,
   "id": "7bf84b8d-a38a-4f9b-bf45-790c79084ab8",
   "metadata": {},
   "outputs": [],
   "source": []
  },
  {
   "cell_type": "code",
   "execution_count": null,
   "id": "5dc6dc27-956f-4a41-abc7-0804c5fdb1db",
   "metadata": {},
   "outputs": [],
   "source": []
  },
  {
   "cell_type": "code",
   "execution_count": null,
   "id": "f2e13d14-c656-4132-befe-9b92880c831b",
   "metadata": {},
   "outputs": [],
   "source": []
  },
  {
   "cell_type": "code",
   "execution_count": null,
   "id": "3f5d01fc-c8de-4e30-84c0-a83f2aac5aab",
   "metadata": {},
   "outputs": [],
   "source": []
  },
  {
   "cell_type": "code",
   "execution_count": null,
   "id": "025ccc8c-b2e7-4f8c-910a-ed5e15fb660d",
   "metadata": {},
   "outputs": [],
   "source": []
  },
  {
   "cell_type": "code",
   "execution_count": null,
   "id": "dc4e46a8-a208-4dbd-862e-1f894f32cdce",
   "metadata": {},
   "outputs": [],
   "source": []
  },
  {
   "cell_type": "code",
   "execution_count": null,
   "id": "1ce8f8eb-eb5e-4dce-a587-271144af5223",
   "metadata": {},
   "outputs": [],
   "source": []
  },
  {
   "cell_type": "code",
   "execution_count": null,
   "id": "baa9bf46-b85a-4f32-9831-14db0332dea5",
   "metadata": {},
   "outputs": [],
   "source": []
  },
  {
   "cell_type": "code",
   "execution_count": null,
   "id": "56be8e54-edad-4f2a-b9bb-dd3e19cb2d95",
   "metadata": {},
   "outputs": [],
   "source": []
  },
  {
   "cell_type": "code",
   "execution_count": null,
   "id": "f6d4bdda-ec45-485c-82da-0dfbd5e07df6",
   "metadata": {},
   "outputs": [],
   "source": []
  },
  {
   "cell_type": "code",
   "execution_count": null,
   "id": "3d2495dd-f71f-4fd9-9ceb-eaff437772b8",
   "metadata": {},
   "outputs": [],
   "source": []
  },
  {
   "cell_type": "code",
   "execution_count": null,
   "id": "2ca63bf5-5223-47d3-a8d9-aaf2be73ada1",
   "metadata": {},
   "outputs": [],
   "source": []
  },
  {
   "cell_type": "code",
   "execution_count": null,
   "id": "eb88b3bb-0d90-45aa-a0cc-1454fe58b8a0",
   "metadata": {},
   "outputs": [],
   "source": []
  },
  {
   "cell_type": "code",
   "execution_count": null,
   "id": "3c869faa-b44e-4584-81c4-5bcb8c4487ea",
   "metadata": {},
   "outputs": [],
   "source": [
    "\n"
   ]
  }
 ],
 "metadata": {
  "kernelspec": {
   "display_name": "Python 3 (ipykernel)",
   "language": "python",
   "name": "python3"
  },
  "language_info": {
   "codemirror_mode": {
    "name": "ipython",
    "version": 3
   },
   "file_extension": ".py",
   "mimetype": "text/x-python",
   "name": "python",
   "nbconvert_exporter": "python",
   "pygments_lexer": "ipython3",
   "version": "3.10.12"
  }
 },
 "nbformat": 4,
 "nbformat_minor": 5
}
